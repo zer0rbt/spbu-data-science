{
 "cells": [
  {
   "cell_type": "markdown",
   "id": "606cea49",
   "metadata": {
    "tags": [
     "papermill-error-cell-tag"
    ]
   },
   "source": [
    "<span style=\"color:red; font-family:Helvetica Neue, Helvetica, Arial, sans-serif; font-size:2em;\">An Exception was encountered at '<a href=\"#papermill-error-cell\">In [1]</a>'.</span>"
   ]
  },
  {
   "cell_type": "markdown",
   "id": "665f2699",
   "metadata": {
    "tags": [
     "papermill-error-cell-tag"
    ]
   },
   "source": [
    "<span id=\"papermill-error-cell\" style=\"color:red; font-family:Helvetica Neue, Helvetica, Arial, sans-serif; font-size:2em;\">Execution using papermill encountered an exception here and stopped:</span>"
   ]
  },
  {
   "cell_type": "code",
   "execution_count": 1,
   "id": "8db1b868-1c03-4326-acb3-304c53ff263f",
   "metadata": {
    "execution": {
     "iopub.execute_input": "2024-12-20T21:07:53.382472Z",
     "iopub.status.busy": "2024-12-20T21:07:53.380857Z",
     "iopub.status.idle": "2024-12-20T21:08:03.855886Z",
     "shell.execute_reply": "2024-12-20T21:08:03.853913Z"
    },
    "papermill": {
     "duration": 10.503916,
     "end_time": "2024-12-20T21:08:03.856162",
     "exception": true,
     "start_time": "2024-12-20T21:07:53.352246",
     "status": "failed"
    },
    "tags": []
   },
   "outputs": [
    {
     "ename": "ModuleNotFoundError",
     "evalue": "No module named 'category_encoders'",
     "output_type": "error",
     "traceback": [
      "\u001b[0;31m---------------------------------------------------------------------------\u001b[0m",
      "\u001b[0;31mModuleNotFoundError\u001b[0m                       Traceback (most recent call last)",
      "\u001b[0;32m/tmp/ipykernel_7467/2111782608.py\u001b[0m in \u001b[0;36m<module>\u001b[0;34m\u001b[0m\n\u001b[1;32m      1\u001b[0m \u001b[0;32mimport\u001b[0m \u001b[0mpandas\u001b[0m \u001b[0;32mas\u001b[0m \u001b[0mpd\u001b[0m\u001b[0;34m\u001b[0m\u001b[0;34m\u001b[0m\u001b[0m\n\u001b[1;32m      2\u001b[0m \u001b[0;32mfrom\u001b[0m \u001b[0msklearn\u001b[0m\u001b[0;34m.\u001b[0m\u001b[0mpreprocessing\u001b[0m \u001b[0;32mimport\u001b[0m \u001b[0mLabelEncoder\u001b[0m\u001b[0;34m\u001b[0m\u001b[0;34m\u001b[0m\u001b[0m\n\u001b[0;32m----> 3\u001b[0;31m \u001b[0;32mimport\u001b[0m \u001b[0mcategory_encoders\u001b[0m \u001b[0;32mas\u001b[0m \u001b[0mce\u001b[0m\u001b[0;34m\u001b[0m\u001b[0;34m\u001b[0m\u001b[0m\n\u001b[0m",
      "\u001b[0;31mModuleNotFoundError\u001b[0m: No module named 'category_encoders'"
     ]
    }
   ],
   "source": [
    "import pandas as pd\n",
    "from sklearn.preprocessing import LabelEncoder\n",
    "import category_encoders as ce"
   ]
  },
  {
   "cell_type": "code",
   "execution_count": null,
   "id": "19870835-1961-44da-a794-15ab1312b2ce",
   "metadata": {
    "papermill": {
     "duration": null,
     "end_time": null,
     "exception": null,
     "start_time": null,
     "status": "pending"
    },
    "tags": []
   },
   "outputs": [],
   "source": [
    "train = pd.read_csv('train.csv')"
   ]
  },
  {
   "cell_type": "markdown",
   "id": "759362410bf14fc6",
   "metadata": {
    "papermill": {
     "duration": null,
     "end_time": null,
     "exception": null,
     "start_time": null,
     "status": "pending"
    },
    "tags": []
   },
   "source": [
    "# EDA + Feature Engineering"
   ]
  },
  {
   "cell_type": "markdown",
   "id": "3ea487e27f1312d9",
   "metadata": {
    "papermill": {
     "duration": null,
     "end_time": null,
     "exception": null,
     "start_time": null,
     "status": "pending"
    },
    "tags": []
   },
   "source": [
    "Сделаем признаки Group (вычленим группу из PassangerId) и разобъём признак Cabin на составляющие "
   ]
  },
  {
   "cell_type": "code",
   "execution_count": null,
   "id": "c0463add0f64243f",
   "metadata": {
    "ExecuteTime": {
     "end_time": "2024-10-04T23:03:29.706927Z",
     "start_time": "2024-10-04T23:03:29.655545Z"
    },
    "collapsed": false,
    "jupyter": {
     "outputs_hidden": false
    },
    "papermill": {
     "duration": null,
     "end_time": null,
     "exception": null,
     "start_time": null,
     "status": "pending"
    },
    "tags": []
   },
   "outputs": [],
   "source": [
    "train['Group'] = train.PassengerId.str.split(\"_\").str[0]\n",
    "train['Deck'] = train.Cabin.str.split(\"/\").str[0]\n",
    "train['Num'] = train.Cabin.str.split(\"/\").str[1]\n",
    "train['Side'] = train.Cabin.str.split(\"/\").str[2]\n",
    "\n",
    "\n",
    "train.head()"
   ]
  },
  {
   "cell_type": "markdown",
   "id": "e658517fc92de7f9",
   "metadata": {
    "papermill": {
     "duration": null,
     "end_time": null,
     "exception": null,
     "start_time": null,
     "status": "pending"
    },
    "tags": []
   },
   "source": [
    "...и удалим ненужные признаки."
   ]
  },
  {
   "cell_type": "code",
   "execution_count": null,
   "id": "998cf078bf73c35f",
   "metadata": {
    "ExecuteTime": {
     "end_time": "2024-10-04T23:03:29.874087Z",
     "start_time": "2024-10-04T23:03:29.867933Z"
    },
    "papermill": {
     "duration": null,
     "end_time": null,
     "exception": null,
     "start_time": null,
     "status": "pending"
    },
    "tags": []
   },
   "outputs": [],
   "source": [
    "train = train.drop(columns=\"PassengerId\")\n",
    "train = train.drop(columns=\"Cabin\")"
   ]
  },
  {
   "cell_type": "markdown",
   "id": "ff93e0d884d2ecee",
   "metadata": {
    "papermill": {
     "duration": null,
     "end_time": null,
     "exception": null,
     "start_time": null,
     "status": "pending"
    },
    "tags": []
   },
   "source": [
    "## Encode'им категориальные признаки"
   ]
  },
  {
   "cell_type": "markdown",
   "id": "6847ff4bb2aef1c6",
   "metadata": {
    "papermill": {
     "duration": null,
     "end_time": null,
     "exception": null,
     "start_time": null,
     "status": "pending"
    },
    "tags": []
   },
   "source": [
    "Сначала посмотрим на Home."
   ]
  },
  {
   "cell_type": "code",
   "execution_count": null,
   "id": "536a0746a5fe4e5b",
   "metadata": {
    "ExecuteTime": {
     "end_time": "2024-10-04T23:03:30.062930Z",
     "start_time": "2024-10-04T23:03:29.929073Z"
    },
    "collapsed": false,
    "jupyter": {
     "outputs_hidden": false
    },
    "papermill": {
     "duration": null,
     "end_time": null,
     "exception": null,
     "start_time": null,
     "status": "pending"
    },
    "tags": []
   },
   "outputs": [],
   "source": [
    "train.HomePlanet.value_counts().plot.barh()"
   ]
  },
  {
   "cell_type": "code",
   "execution_count": null,
   "id": "6c0239a620e1cd45",
   "metadata": {
    "ExecuteTime": {
     "end_time": "2024-10-04T23:03:30.195676Z",
     "start_time": "2024-10-04T23:03:30.063934Z"
    },
    "collapsed": false,
    "jupyter": {
     "outputs_hidden": false
    },
    "papermill": {
     "duration": null,
     "end_time": null,
     "exception": null,
     "start_time": null,
     "status": "pending"
    },
    "tags": []
   },
   "outputs": [],
   "source": [
    "test.HomePlanet.value_counts().plot.barh()"
   ]
  },
  {
   "cell_type": "markdown",
   "id": "7ba70207dcea988f",
   "metadata": {
    "papermill": {
     "duration": null,
     "end_time": null,
     "exception": null,
     "start_time": null,
     "status": "pending"
    },
    "tags": []
   },
   "source": [
    "Для кодирования используем count encoder"
   ]
  },
  {
   "cell_type": "code",
   "execution_count": null,
   "id": "234257a752488c8d",
   "metadata": {
    "ExecuteTime": {
     "end_time": "2024-10-04T23:03:30.481463Z",
     "start_time": "2024-10-04T23:03:30.313474Z"
    },
    "collapsed": false,
    "jupyter": {
     "outputs_hidden": false
    },
    "papermill": {
     "duration": null,
     "end_time": null,
     "exception": null,
     "start_time": null,
     "status": "pending"
    },
    "tags": []
   },
   "outputs": [],
   "source": [
    "count_encoder = ce.CountEncoder(normalize=True)\n",
    "train[\"HomePlanet\"] = count_encoder.fit_transform(train['HomePlanet'], train['Transported'])\n",
    "\n",
    "train[\"HomePlanet\"].value_counts().plot.barh()\n"
   ]
  },
  {
   "cell_type": "markdown",
   "id": "526ae0ad53002013",
   "metadata": {
    "papermill": {
     "duration": null,
     "end_time": null,
     "exception": null,
     "start_time": null,
     "status": "pending"
    },
    "tags": []
   },
   "source": [
    "Теперь разберемся с Transported. Закодируем его Label Encoder'ом - благо в нем и так bool значения."
   ]
  },
  {
   "cell_type": "code",
   "execution_count": null,
   "id": "132bdcc81502fc13",
   "metadata": {
    "ExecuteTime": {
     "end_time": "2024-10-04T23:03:30.645573Z",
     "start_time": "2024-10-04T23:03:30.482461Z"
    },
    "collapsed": false,
    "jupyter": {
     "outputs_hidden": false
    },
    "papermill": {
     "duration": null,
     "end_time": null,
     "exception": null,
     "start_time": null,
     "status": "pending"
    },
    "tags": []
   },
   "outputs": [],
   "source": [
    "label_encoder = LabelEncoder()\n",
    "\n",
    "train[\"Transported\"] = label_encoder.fit_transform(train['Transported'])\n",
    "\n",
    "train[\"Transported\"].value_counts().plot.barh()"
   ]
  },
  {
   "cell_type": "markdown",
   "id": "554482e1e4204c82",
   "metadata": {
    "papermill": {
     "duration": null,
     "end_time": null,
     "exception": null,
     "start_time": null,
     "status": "pending"
    },
    "tags": []
   },
   "source": [
    "Теперь разберемся с VIP. Тут тоже поможет LabelEncoder."
   ]
  },
  {
   "cell_type": "code",
   "execution_count": null,
   "id": "d03c940126f6f0f4",
   "metadata": {
    "ExecuteTime": {
     "end_time": "2024-10-04T23:03:30.834448Z",
     "start_time": "2024-10-04T23:03:30.646571Z"
    },
    "collapsed": false,
    "jupyter": {
     "outputs_hidden": false
    },
    "papermill": {
     "duration": null,
     "end_time": null,
     "exception": null,
     "start_time": null,
     "status": "pending"
    },
    "tags": []
   },
   "outputs": [],
   "source": [
    "label_encoder = LabelEncoder()\n",
    "\n",
    "train[\"VIP\"] = label_encoder.fit_transform(train['VIP'])\n",
    "\n",
    "train[\"VIP\"].value_counts().plot.barh()"
   ]
  },
  {
   "cell_type": "markdown",
   "id": "6cc2e1db3e3817c0",
   "metadata": {
    "papermill": {
     "duration": null,
     "end_time": null,
     "exception": null,
     "start_time": null,
     "status": "pending"
    },
    "tags": []
   },
   "source": [
    "Теперь разбираемся с Deck, Side и Destination - тут снова Count Encoder."
   ]
  },
  {
   "cell_type": "code",
   "execution_count": null,
   "id": "21242ba04920e174",
   "metadata": {
    "ExecuteTime": {
     "end_time": "2024-10-04T23:03:31.034500Z",
     "start_time": "2024-10-04T23:03:30.835546Z"
    },
    "collapsed": false,
    "jupyter": {
     "outputs_hidden": false
    },
    "papermill": {
     "duration": null,
     "end_time": null,
     "exception": null,
     "start_time": null,
     "status": "pending"
    },
    "tags": []
   },
   "outputs": [],
   "source": [
    "train[\"Deck\"] = count_encoder.fit_transform(train['Deck'], train[\"Transported\"])\n",
    "\n",
    "\n",
    "train[\"Side\"] = count_encoder.fit_transform(train['Side'], train[\"Transported\"])\n",
    "train[\"Destination\"] = count_encoder.fit_transform(train['Destination'], train[\"Transported\"])\n",
    "\n",
    "train[\"Destination\"].value_counts().plot.barh()"
   ]
  },
  {
   "cell_type": "markdown",
   "id": "4bc72d663322c02e",
   "metadata": {
    "papermill": {
     "duration": null,
     "end_time": null,
     "exception": null,
     "start_time": null,
     "status": "pending"
    },
    "tags": []
   },
   "source": [
    "Преобразуем признаки RoomService, FoodCourt, ShoppingMall, Spa, VRDeck c помощью pd.cut в категориальные (по процентилям)"
   ]
  },
  {
   "cell_type": "code",
   "execution_count": null,
   "id": "68026456-4ca0-4be2-8674-59793765707e",
   "metadata": {
    "papermill": {
     "duration": null,
     "end_time": null,
     "exception": null,
     "start_time": null,
     "status": "pending"
    },
    "tags": []
   },
   "outputs": [],
   "source": [
    "train.to_csv('train.csv')\n",
    "test.to_csv('test.csv')"
   ]
  }
 ],
 "metadata": {
  "kernelspec": {
   "display_name": "Python 3 (ipykernel)",
   "language": "python",
   "name": "python3"
  },
  "language_info": {
   "codemirror_mode": {
    "name": "ipython",
    "version": 3
   },
   "file_extension": ".py",
   "mimetype": "text/x-python",
   "name": "python",
   "nbconvert_exporter": "python",
   "pygments_lexer": "ipython3",
   "version": "3.9.7"
  },
  "papermill": {
   "default_parameters": {},
   "duration": 28.59597,
   "end_time": "2024-12-20T21:08:04.387981",
   "environment_variables": {},
   "exception": true,
   "input_path": "/home/jovyan/work/ml-pipeline/data_preprocessing.ipynb",
   "output_path": "/home/jovyan/work/ml-pipeline/data_preprocessing.ipynb",
   "parameters": {},
   "start_time": "2024-12-20T21:07:35.792011",
   "version": "2.4.0"
  }
 },
 "nbformat": 4,
 "nbformat_minor": 5
}