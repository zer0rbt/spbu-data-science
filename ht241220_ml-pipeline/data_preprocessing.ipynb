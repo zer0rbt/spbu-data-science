{
 "cells": [
  {
   "cell_type": "code",
   "execution_count": 1,
   "id": "8db1b868-1c03-4326-acb3-304c53ff263f",
   "metadata": {
    "execution": {
     "iopub.execute_input": "2024-12-20T22:04:20.938819Z",
     "iopub.status.busy": "2024-12-20T22:04:20.938374Z",
     "iopub.status.idle": "2024-12-20T22:04:26.053293Z",
     "shell.execute_reply": "2024-12-20T22:04:26.053691Z"
    },
    "papermill": {
     "duration": 5.130281,
     "end_time": "2024-12-20T22:04:26.053833",
     "exception": false,
     "start_time": "2024-12-20T22:04:20.923552",
     "status": "completed"
    },
    "tags": []
   },
   "outputs": [
    {
     "name": "stdout",
     "output_type": "stream",
     "text": [
      "Requirement already satisfied: category_encoders in /opt/conda/lib/python3.9/site-packages (2.6.4)\r\n",
      "Requirement already satisfied: pandas>=1.0.5 in /opt/conda/lib/python3.9/site-packages (from category_encoders) (1.5.3)\r\n",
      "Requirement already satisfied: scikit-learn>=0.20.0 in /opt/conda/lib/python3.9/site-packages (from category_encoders) (1.6.0)\r\n",
      "Requirement already satisfied: statsmodels>=0.9.0 in /opt/conda/lib/python3.9/site-packages (from category_encoders) (0.14.4)\r\n",
      "Requirement already satisfied: scipy>=1.0.0 in /opt/conda/lib/python3.9/site-packages (from category_encoders) (1.13.1)\r\n",
      "Requirement already satisfied: patsy>=0.5.1 in /opt/conda/lib/python3.9/site-packages (from category_encoders) (1.0.1)\r\n",
      "Requirement already satisfied: numpy>=1.14.0 in /opt/conda/lib/python3.9/site-packages (from category_encoders) (1.24.2)\r\n",
      "Requirement already satisfied: pytz>=2020.1 in /opt/conda/lib/python3.9/site-packages (from pandas>=1.0.5->category_encoders) (2021.3)\r\n",
      "Requirement already satisfied: python-dateutil>=2.8.1 in /opt/conda/lib/python3.9/site-packages (from pandas>=1.0.5->category_encoders) (2.8.2)\r\n"
     ]
    },
    {
     "name": "stdout",
     "output_type": "stream",
     "text": [
      "Requirement already satisfied: joblib>=1.2.0 in /opt/conda/lib/python3.9/site-packages (from scikit-learn>=0.20.0->category_encoders) (1.4.2)\r\n",
      "Requirement already satisfied: threadpoolctl>=3.1.0 in /opt/conda/lib/python3.9/site-packages (from scikit-learn>=0.20.0->category_encoders) (3.5.0)\r\n"
     ]
    },
    {
     "name": "stdout",
     "output_type": "stream",
     "text": [
      "Requirement already satisfied: packaging>=21.3 in /opt/conda/lib/python3.9/site-packages (from statsmodels>=0.9.0->category_encoders) (23.0)\r\n",
      "Requirement already satisfied: six>=1.5 in /opt/conda/lib/python3.9/site-packages (from python-dateutil>=2.8.1->pandas>=1.0.5->category_encoders) (1.16.0)\r\n"
     ]
    },
    {
     "name": "stdout",
     "output_type": "stream",
     "text": [
      "Requirement already satisfied: sklearn in /opt/conda/lib/python3.9/site-packages (0.0)\r\n"
     ]
    },
    {
     "name": "stdout",
     "output_type": "stream",
     "text": [
      "Requirement already satisfied: scikit-learn in /opt/conda/lib/python3.9/site-packages (from sklearn) (1.6.0)\r\n"
     ]
    },
    {
     "name": "stdout",
     "output_type": "stream",
     "text": [
      "Requirement already satisfied: threadpoolctl>=3.1.0 in /opt/conda/lib/python3.9/site-packages (from scikit-learn->sklearn) (3.5.0)\r\n",
      "Requirement already satisfied: numpy>=1.19.5 in /opt/conda/lib/python3.9/site-packages (from scikit-learn->sklearn) (1.24.2)\r\n",
      "Requirement already satisfied: joblib>=1.2.0 in /opt/conda/lib/python3.9/site-packages (from scikit-learn->sklearn) (1.4.2)\r\n",
      "Requirement already satisfied: scipy>=1.6.0 in /opt/conda/lib/python3.9/site-packages (from scikit-learn->sklearn) (1.13.1)\r\n"
     ]
    }
   ],
   "source": [
    "!pip install category_encoders\n",
    "!pip install sklearn"
   ]
  },
  {
   "cell_type": "code",
   "execution_count": 2,
   "id": "25b37ace-78cb-49a4-baac-23c50dc886b8",
   "metadata": {
    "execution": {
     "iopub.execute_input": "2024-12-20T22:04:26.072371Z",
     "iopub.status.busy": "2024-12-20T22:04:26.071895Z",
     "iopub.status.idle": "2024-12-20T22:04:26.800418Z",
     "shell.execute_reply": "2024-12-20T22:04:26.800039Z"
    },
    "papermill": {
     "duration": 0.738947,
     "end_time": "2024-12-20T22:04:26.800506",
     "exception": false,
     "start_time": "2024-12-20T22:04:26.061559",
     "status": "completed"
    },
    "tags": []
   },
   "outputs": [],
   "source": [
    "import pandas as pd\n",
    "from sklearn.preprocessing import LabelEncoder\n",
    "import category_encoders as ce"
   ]
  },
  {
   "cell_type": "code",
   "execution_count": 3,
   "id": "19870835-1961-44da-a794-15ab1312b2ce",
   "metadata": {
    "execution": {
     "iopub.execute_input": "2024-12-20T22:04:26.818687Z",
     "iopub.status.busy": "2024-12-20T22:04:26.818053Z",
     "iopub.status.idle": "2024-12-20T22:04:26.849340Z",
     "shell.execute_reply": "2024-12-20T22:04:26.848895Z"
    },
    "papermill": {
     "duration": 0.041436,
     "end_time": "2024-12-20T22:04:26.849428",
     "exception": false,
     "start_time": "2024-12-20T22:04:26.807992",
     "status": "completed"
    },
    "tags": []
   },
   "outputs": [],
   "source": [
    "train = pd.read_csv('train.csv')"
   ]
  },
  {
   "cell_type": "markdown",
   "id": "759362410bf14fc6",
   "metadata": {
    "papermill": {
     "duration": 0.007754,
     "end_time": "2024-12-20T22:04:26.864277",
     "exception": false,
     "start_time": "2024-12-20T22:04:26.856523",
     "status": "completed"
    },
    "tags": []
   },
   "source": [
    "# EDA + Feature Engineering"
   ]
  },
  {
   "cell_type": "markdown",
   "id": "3ea487e27f1312d9",
   "metadata": {
    "papermill": {
     "duration": 0.00753,
     "end_time": "2024-12-20T22:04:26.879634",
     "exception": false,
     "start_time": "2024-12-20T22:04:26.872104",
     "status": "completed"
    },
    "tags": []
   },
   "source": [
    "Сделаем признаки Group (вычленим группу из PassangerId) и разобъём признак Cabin на составляющие "
   ]
  },
  {
   "cell_type": "code",
   "execution_count": 4,
   "id": "c0463add0f64243f",
   "metadata": {
    "ExecuteTime": {
     "end_time": "2024-10-04T23:03:29.706927Z",
     "start_time": "2024-10-04T23:03:29.655545Z"
    },
    "collapsed": false,
    "execution": {
     "iopub.execute_input": "2024-12-20T22:04:26.905153Z",
     "iopub.status.busy": "2024-12-20T22:04:26.904505Z",
     "iopub.status.idle": "2024-12-20T22:04:26.962542Z",
     "shell.execute_reply": "2024-12-20T22:04:26.962075Z"
    },
    "jupyter": {
     "outputs_hidden": false
    },
    "papermill": {
     "duration": 0.076134,
     "end_time": "2024-12-20T22:04:26.962632",
     "exception": false,
     "start_time": "2024-12-20T22:04:26.886498",
     "status": "completed"
    },
    "tags": []
   },
   "outputs": [
    {
     "data": {
      "text/html": [
       "<div>\n",
       "<style scoped>\n",
       "    .dataframe tbody tr th:only-of-type {\n",
       "        vertical-align: middle;\n",
       "    }\n",
       "\n",
       "    .dataframe tbody tr th {\n",
       "        vertical-align: top;\n",
       "    }\n",
       "\n",
       "    .dataframe thead th {\n",
       "        text-align: right;\n",
       "    }\n",
       "</style>\n",
       "<table border=\"1\" class=\"dataframe\">\n",
       "  <thead>\n",
       "    <tr style=\"text-align: right;\">\n",
       "      <th></th>\n",
       "      <th>Unnamed: 0</th>\n",
       "      <th>PassengerId</th>\n",
       "      <th>HomePlanet</th>\n",
       "      <th>CryoSleep</th>\n",
       "      <th>Cabin</th>\n",
       "      <th>Destination</th>\n",
       "      <th>Age</th>\n",
       "      <th>VIP</th>\n",
       "      <th>RoomService</th>\n",
       "      <th>FoodCourt</th>\n",
       "      <th>ShoppingMall</th>\n",
       "      <th>Spa</th>\n",
       "      <th>VRDeck</th>\n",
       "      <th>Name</th>\n",
       "      <th>Transported</th>\n",
       "      <th>Group</th>\n",
       "      <th>Deck</th>\n",
       "      <th>Num</th>\n",
       "      <th>Side</th>\n",
       "    </tr>\n",
       "  </thead>\n",
       "  <tbody>\n",
       "    <tr>\n",
       "      <th>0</th>\n",
       "      <td>0</td>\n",
       "      <td>0001_01</td>\n",
       "      <td>Europa</td>\n",
       "      <td>False</td>\n",
       "      <td>B/0/P</td>\n",
       "      <td>TRAPPIST-1e</td>\n",
       "      <td>39.0</td>\n",
       "      <td>False</td>\n",
       "      <td>0.0</td>\n",
       "      <td>0.0</td>\n",
       "      <td>0.0</td>\n",
       "      <td>0.0</td>\n",
       "      <td>0.0</td>\n",
       "      <td>Maham Ofracculy</td>\n",
       "      <td>False</td>\n",
       "      <td>0001</td>\n",
       "      <td>B</td>\n",
       "      <td>0</td>\n",
       "      <td>P</td>\n",
       "    </tr>\n",
       "    <tr>\n",
       "      <th>1</th>\n",
       "      <td>1</td>\n",
       "      <td>0002_01</td>\n",
       "      <td>Earth</td>\n",
       "      <td>False</td>\n",
       "      <td>F/0/S</td>\n",
       "      <td>TRAPPIST-1e</td>\n",
       "      <td>24.0</td>\n",
       "      <td>False</td>\n",
       "      <td>109.0</td>\n",
       "      <td>9.0</td>\n",
       "      <td>25.0</td>\n",
       "      <td>549.0</td>\n",
       "      <td>44.0</td>\n",
       "      <td>Juanna Vines</td>\n",
       "      <td>True</td>\n",
       "      <td>0002</td>\n",
       "      <td>F</td>\n",
       "      <td>0</td>\n",
       "      <td>S</td>\n",
       "    </tr>\n",
       "    <tr>\n",
       "      <th>2</th>\n",
       "      <td>2</td>\n",
       "      <td>0003_01</td>\n",
       "      <td>Europa</td>\n",
       "      <td>False</td>\n",
       "      <td>A/0/S</td>\n",
       "      <td>TRAPPIST-1e</td>\n",
       "      <td>58.0</td>\n",
       "      <td>True</td>\n",
       "      <td>43.0</td>\n",
       "      <td>3576.0</td>\n",
       "      <td>0.0</td>\n",
       "      <td>6715.0</td>\n",
       "      <td>49.0</td>\n",
       "      <td>Altark Susent</td>\n",
       "      <td>False</td>\n",
       "      <td>0003</td>\n",
       "      <td>A</td>\n",
       "      <td>0</td>\n",
       "      <td>S</td>\n",
       "    </tr>\n",
       "    <tr>\n",
       "      <th>3</th>\n",
       "      <td>3</td>\n",
       "      <td>0003_02</td>\n",
       "      <td>Europa</td>\n",
       "      <td>False</td>\n",
       "      <td>A/0/S</td>\n",
       "      <td>TRAPPIST-1e</td>\n",
       "      <td>33.0</td>\n",
       "      <td>False</td>\n",
       "      <td>0.0</td>\n",
       "      <td>1283.0</td>\n",
       "      <td>371.0</td>\n",
       "      <td>3329.0</td>\n",
       "      <td>193.0</td>\n",
       "      <td>Solam Susent</td>\n",
       "      <td>False</td>\n",
       "      <td>0003</td>\n",
       "      <td>A</td>\n",
       "      <td>0</td>\n",
       "      <td>S</td>\n",
       "    </tr>\n",
       "    <tr>\n",
       "      <th>4</th>\n",
       "      <td>4</td>\n",
       "      <td>0004_01</td>\n",
       "      <td>Earth</td>\n",
       "      <td>False</td>\n",
       "      <td>F/1/S</td>\n",
       "      <td>TRAPPIST-1e</td>\n",
       "      <td>16.0</td>\n",
       "      <td>False</td>\n",
       "      <td>303.0</td>\n",
       "      <td>70.0</td>\n",
       "      <td>151.0</td>\n",
       "      <td>565.0</td>\n",
       "      <td>2.0</td>\n",
       "      <td>Willy Santantines</td>\n",
       "      <td>True</td>\n",
       "      <td>0004</td>\n",
       "      <td>F</td>\n",
       "      <td>1</td>\n",
       "      <td>S</td>\n",
       "    </tr>\n",
       "  </tbody>\n",
       "</table>\n",
       "</div>"
      ],
      "text/plain": [
       "   Unnamed: 0 PassengerId HomePlanet CryoSleep  Cabin  Destination   Age  \\\n",
       "0           0     0001_01     Europa     False  B/0/P  TRAPPIST-1e  39.0   \n",
       "1           1     0002_01      Earth     False  F/0/S  TRAPPIST-1e  24.0   \n",
       "2           2     0003_01     Europa     False  A/0/S  TRAPPIST-1e  58.0   \n",
       "3           3     0003_02     Europa     False  A/0/S  TRAPPIST-1e  33.0   \n",
       "4           4     0004_01      Earth     False  F/1/S  TRAPPIST-1e  16.0   \n",
       "\n",
       "     VIP  RoomService  FoodCourt  ShoppingMall     Spa  VRDeck  \\\n",
       "0  False          0.0        0.0           0.0     0.0     0.0   \n",
       "1  False        109.0        9.0          25.0   549.0    44.0   \n",
       "2   True         43.0     3576.0           0.0  6715.0    49.0   \n",
       "3  False          0.0     1283.0         371.0  3329.0   193.0   \n",
       "4  False        303.0       70.0         151.0   565.0     2.0   \n",
       "\n",
       "                Name  Transported Group Deck Num Side  \n",
       "0    Maham Ofracculy        False  0001    B   0    P  \n",
       "1       Juanna Vines         True  0002    F   0    S  \n",
       "2      Altark Susent        False  0003    A   0    S  \n",
       "3       Solam Susent        False  0003    A   0    S  \n",
       "4  Willy Santantines         True  0004    F   1    S  "
      ]
     },
     "execution_count": 4,
     "metadata": {},
     "output_type": "execute_result"
    }
   ],
   "source": [
    "train['Group'] = train.PassengerId.str.split(\"_\").str[0]\n",
    "train['Deck'] = train.Cabin.str.split(\"/\").str[0]\n",
    "train['Num'] = train.Cabin.str.split(\"/\").str[1]\n",
    "train['Side'] = train.Cabin.str.split(\"/\").str[2]\n",
    "\n",
    "\n",
    "train.head()"
   ]
  },
  {
   "cell_type": "markdown",
   "id": "e658517fc92de7f9",
   "metadata": {
    "papermill": {
     "duration": 0.007976,
     "end_time": "2024-12-20T22:04:26.979383",
     "exception": false,
     "start_time": "2024-12-20T22:04:26.971407",
     "status": "completed"
    },
    "tags": []
   },
   "source": [
    "...и удалим ненужные признаки."
   ]
  },
  {
   "cell_type": "code",
   "execution_count": 5,
   "id": "998cf078bf73c35f",
   "metadata": {
    "ExecuteTime": {
     "end_time": "2024-10-04T23:03:29.874087Z",
     "start_time": "2024-10-04T23:03:29.867933Z"
    },
    "execution": {
     "iopub.execute_input": "2024-12-20T22:04:27.003950Z",
     "iopub.status.busy": "2024-12-20T22:04:27.003232Z",
     "iopub.status.idle": "2024-12-20T22:04:27.007053Z",
     "shell.execute_reply": "2024-12-20T22:04:27.006351Z"
    },
    "papermill": {
     "duration": 0.020014,
     "end_time": "2024-12-20T22:04:27.007181",
     "exception": false,
     "start_time": "2024-12-20T22:04:26.987167",
     "status": "completed"
    },
    "tags": []
   },
   "outputs": [],
   "source": [
    "train = train.drop(columns=\"PassengerId\")\n",
    "train = train.drop(columns=\"Cabin\")"
   ]
  },
  {
   "cell_type": "markdown",
   "id": "ff93e0d884d2ecee",
   "metadata": {
    "papermill": {
     "duration": 0.008035,
     "end_time": "2024-12-20T22:04:27.025519",
     "exception": false,
     "start_time": "2024-12-20T22:04:27.017484",
     "status": "completed"
    },
    "tags": []
   },
   "source": [
    "## Encode'им категориальные признаки"
   ]
  },
  {
   "cell_type": "markdown",
   "id": "6847ff4bb2aef1c6",
   "metadata": {
    "papermill": {
     "duration": 0.008308,
     "end_time": "2024-12-20T22:04:27.042568",
     "exception": false,
     "start_time": "2024-12-20T22:04:27.034260",
     "status": "completed"
    },
    "tags": []
   },
   "source": [
    "Сначала посмотрим на Home."
   ]
  },
  {
   "cell_type": "code",
   "execution_count": 6,
   "id": "536a0746a5fe4e5b",
   "metadata": {
    "ExecuteTime": {
     "end_time": "2024-10-04T23:03:30.062930Z",
     "start_time": "2024-10-04T23:03:29.929073Z"
    },
    "collapsed": false,
    "execution": {
     "iopub.execute_input": "2024-12-20T22:04:27.062880Z",
     "iopub.status.busy": "2024-12-20T22:04:27.062176Z",
     "iopub.status.idle": "2024-12-20T22:04:27.525246Z",
     "shell.execute_reply": "2024-12-20T22:04:27.524874Z"
    },
    "jupyter": {
     "outputs_hidden": false
    },
    "papermill": {
     "duration": 0.475343,
     "end_time": "2024-12-20T22:04:27.525374",
     "exception": false,
     "start_time": "2024-12-20T22:04:27.050031",
     "status": "completed"
    },
    "tags": []
   },
   "outputs": [
    {
     "data": {
      "text/plain": [
       "<Axes: >"
      ]
     },
     "execution_count": 6,
     "metadata": {},
     "output_type": "execute_result"
    },
    {
     "data": {
      "image/png": "[encoded data removed]",
      "text/plain": [
       "<Figure size 432x288 with 1 Axes>"
      ]
     },
     "metadata": {
      "needs_background": "light"
     },
     "output_type": "display_data"
    }
   ],
   "source": [
    "train.HomePlanet.value_counts().plot.barh()"
   ]
  },
  {
   "cell_type": "markdown",
   "id": "7ba70207dcea988f",
   "metadata": {
    "papermill": {
     "duration": 0.008315,
     "end_time": "2024-12-20T22:04:27.542129",
     "exception": false,
     "start_time": "2024-12-20T22:04:27.533814",
     "status": "completed"
    },
    "tags": []
   },
   "source": [
    "Для кодирования используем count encoder"
   ]
  },
  {
   "cell_type": "code",
   "execution_count": 7,
   "id": "234257a752488c8d",
   "metadata": {
    "ExecuteTime": {
     "end_time": "2024-10-04T23:03:30.481463Z",
     "start_time": "2024-10-04T23:03:30.313474Z"
    },
    "collapsed": false,
    "execution": {
     "iopub.execute_input": "2024-12-20T22:04:27.571145Z",
     "iopub.status.busy": "2024-12-20T22:04:27.566518Z",
     "iopub.status.idle": "2024-12-20T22:04:27.701376Z",
     "shell.execute_reply": "2024-12-20T22:04:27.700831Z"
    },
    "jupyter": {
     "outputs_hidden": false
    },
    "papermill": {
     "duration": 0.151534,
     "end_time": "2024-12-20T22:04:27.701469",
     "exception": false,
     "start_time": "2024-12-20T22:04:27.549935",
     "status": "completed"
    },
    "tags": []
   },
   "outputs": [
    {
     "name": "stderr",
     "output_type": "stream",
     "text": [
      "/opt/conda/lib/python3.9/site-packages/sklearn/base.py:411: FutureWarning: The `_get_tags` method is deprecated in 1.6 and will be removed in 1.7. Please implement the `__sklearn_tags__` method.\n",
      "  warnings.warn(\n"
     ]
    },
    {
     "data": {
      "text/plain": [
       "<Axes: >"
      ]
     },
     "execution_count": 7,
     "metadata": {},
     "output_type": "execute_result"
    },
    {
     "data": {
      "image/png": "[encoded data removed]",
      "text/plain": [
       "<Figure size 432x288 with 1 Axes>"
      ]
     },
     "metadata": {
      "needs_background": "light"
     },
     "output_type": "display_data"
    }
   ],
   "source": [
    "count_encoder = ce.CountEncoder(normalize=True)\n",
    "train[\"HomePlanet\"] = count_encoder.fit_transform(train['HomePlanet'], train['Transported'])\n",
    "\n",
    "train[\"HomePlanet\"].value_counts().plot.barh()\n"
   ]
  },
  {
   "cell_type": "markdown",
   "id": "526ae0ad53002013",
   "metadata": {
    "papermill": {
     "duration": 0.008558,
     "end_time": "2024-12-20T22:04:27.719335",
     "exception": false,
     "start_time": "2024-12-20T22:04:27.710777",
     "status": "completed"
    },
    "tags": []
   },
   "source": [
    "Теперь разберемся с Transported. Закодируем его Label Encoder'ом - благо в нем и так bool значения."
   ]
  },
  {
   "cell_type": "code",
   "execution_count": 8,
   "id": "132bdcc81502fc13",
   "metadata": {
    "ExecuteTime": {
     "end_time": "2024-10-04T23:03:30.645573Z",
     "start_time": "2024-10-04T23:03:30.482461Z"
    },
    "collapsed": false,
    "execution": {
     "iopub.execute_input": "2024-12-20T22:04:27.739682Z",
     "iopub.status.busy": "2024-12-20T22:04:27.737987Z",
     "iopub.status.idle": "2024-12-20T22:04:27.854166Z",
     "shell.execute_reply": "2024-12-20T22:04:27.853764Z"
    },
    "jupyter": {
     "outputs_hidden": false
    },
    "papermill": {
     "duration": 0.126869,
     "end_time": "2024-12-20T22:04:27.854258",
     "exception": false,
     "start_time": "2024-12-20T22:04:27.727389",
     "status": "completed"
    },
    "tags": []
   },
   "outputs": [
    {
     "data": {
      "text/plain": [
       "<Axes: >"
      ]
     },
     "execution_count": 8,
     "metadata": {},
     "output_type": "execute_result"
    },
    {
     "data": {
      "image/png": "[encoded data removed]",
      "text/plain": [
       "<Figure size 432x288 with 1 Axes>"
      ]
     },
     "metadata": {
      "needs_background": "light"
     },
     "output_type": "display_data"
    }
   ],
   "source": [
    "label_encoder = LabelEncoder()\n",
    "\n",
    "train[\"Transported\"] = label_encoder.fit_transform(train['Transported'])\n",
    "\n",
    "\n",
    "train[\"Transported\"].value_counts().plot.barh()"
   ]
  },
  {
   "cell_type": "markdown",
   "id": "554482e1e4204c82",
   "metadata": {
    "papermill": {
     "duration": 0.00854,
     "end_time": "2024-12-20T22:04:27.872024",
     "exception": false,
     "start_time": "2024-12-20T22:04:27.863484",
     "status": "completed"
    },
    "tags": []
   },
   "source": [
    "Теперь разберемся с VIP. Тут тоже поможет LabelEncoder."
   ]
  },
  {
   "cell_type": "code",
   "execution_count": 9,
   "id": "d03c940126f6f0f4",
   "metadata": {
    "ExecuteTime": {
     "end_time": "2024-10-04T23:03:30.834448Z",
     "start_time": "2024-10-04T23:03:30.646571Z"
    },
    "collapsed": false,
    "execution": {
     "iopub.execute_input": "2024-12-20T22:04:27.898513Z",
     "iopub.status.busy": "2024-12-20T22:04:27.898022Z",
     "iopub.status.idle": "2024-12-20T22:04:28.017937Z",
     "shell.execute_reply": "2024-12-20T22:04:28.017481Z"
    },
    "jupyter": {
     "outputs_hidden": false
    },
    "papermill": {
     "duration": 0.133073,
     "end_time": "2024-12-20T22:04:28.018024",
     "exception": false,
     "start_time": "2024-12-20T22:04:27.884951",
     "status": "completed"
    },
    "tags": []
   },
   "outputs": [
    {
     "data": {
      "text/plain": [
       "<Axes: >"
      ]
     },
     "execution_count": 9,
     "metadata": {},
     "output_type": "execute_result"
    },
    {
     "data": {
      "image/png": "[encoded data removed]",
      "text/plain": [
       "<Figure size 432x288 with 1 Axes>"
      ]
     },
     "metadata": {
      "needs_background": "light"
     },
     "output_type": "display_data"
    }
   ],
   "source": [
    "label_encoder = LabelEncoder()\n",
    "\n",
    "train[\"VIP\"] = label_encoder.fit_transform(train['VIP'])\n",
    "\n",
    "train[\"VIP\"].value_counts().plot.barh()"
   ]
  },
  {
   "cell_type": "markdown",
   "id": "6cc2e1db3e3817c0",
   "metadata": {
    "papermill": {
     "duration": 0.008495,
     "end_time": "2024-12-20T22:04:28.035566",
     "exception": false,
     "start_time": "2024-12-20T22:04:28.027071",
     "status": "completed"
    },
    "tags": []
   },
   "source": [
    "Теперь разбираемся с Deck, Side и Destination - тут снова Count Encoder."
   ]
  },
  {
   "cell_type": "code",
   "execution_count": 10,
   "id": "21242ba04920e174",
   "metadata": {
    "ExecuteTime": {
     "end_time": "2024-10-04T23:03:31.034500Z",
     "start_time": "2024-10-04T23:03:30.835546Z"
    },
    "collapsed": false,
    "execution": {
     "iopub.execute_input": "2024-12-20T22:04:28.063278Z",
     "iopub.status.busy": "2024-12-20T22:04:28.062811Z",
     "iopub.status.idle": "2024-12-20T22:04:29.005309Z",
     "shell.execute_reply": "2024-12-20T22:04:29.004940Z"
    },
    "jupyter": {
     "outputs_hidden": false
    },
    "papermill": {
     "duration": 0.961758,
     "end_time": "2024-12-20T22:04:29.005444",
     "exception": false,
     "start_time": "2024-12-20T22:04:28.043686",
     "status": "completed"
    },
    "tags": []
   },
   "outputs": [
    {
     "name": "stderr",
     "output_type": "stream",
     "text": [
      "/opt/conda/lib/python3.9/site-packages/sklearn/base.py:411: FutureWarning: The `_get_tags` method is deprecated in 1.6 and will be removed in 1.7. Please implement the `__sklearn_tags__` method.\n",
      "  warnings.warn(\n",
      "/opt/conda/lib/python3.9/site-packages/sklearn/base.py:411: FutureWarning: The `_get_tags` method is deprecated in 1.6 and will be removed in 1.7. Please implement the `__sklearn_tags__` method.\n",
      "  warnings.warn(\n",
      "/opt/conda/lib/python3.9/site-packages/sklearn/base.py:411: FutureWarning: The `_get_tags` method is deprecated in 1.6 and will be removed in 1.7. Please implement the `__sklearn_tags__` method.\n",
      "  warnings.warn(\n"
     ]
    },
    {
     "data": {
      "image/png": "[encoded data removed]",
      "text/plain": [
       "<Figure size 432x288 with 1 Axes>"
      ]
     },
     "metadata": {
      "needs_background": "light"
     },
     "output_type": "display_data"
    }
   ],
   "source": [
    "train[\"Deck\"] = count_encoder.fit_transform(train['Deck'], train[\"Transported\"])\n",
    "\n",
    "\n",
    "train[\"Side\"] = count_encoder.fit_transform(train['Side'], train[\"Transported\"])\n",
    "train[\"Destination\"] = count_encoder.fit_transform(train['Destination'], train[\"Transported\"])\n",
    "\n",
    "train[\"Destination\"].value_counts().plot.barh()\n",
    "train = train.drop('Name', axis=1)"
   ]
  },
  {
   "cell_type": "code",
   "execution_count": 11,
   "id": "9bda62c2-1564-4a51-9c90-89a58a247f45",
   "metadata": {
    "execution": {
     "iopub.execute_input": "2024-12-20T22:04:29.046371Z",
     "iopub.status.busy": "2024-12-20T22:04:29.045904Z",
     "iopub.status.idle": "2024-12-20T22:04:29.137143Z",
     "shell.execute_reply": "2024-12-20T22:04:29.136683Z"
    },
    "papermill": {
     "duration": 0.122169,
     "end_time": "2024-12-20T22:04:29.137230",
     "exception": false,
     "start_time": "2024-12-20T22:04:29.015061",
     "status": "completed"
    },
    "tags": []
   },
   "outputs": [
    {
     "data": {
      "text/plain": [
       "<Axes: >"
      ]
     },
     "execution_count": 11,
     "metadata": {},
     "output_type": "execute_result"
    },
    {
     "data": {
      "image/png": "[encoded data removed]",
      "text/plain": [
       "<Figure size 432x288 with 1 Axes>"
      ]
     },
     "metadata": {
      "needs_background": "light"
     },
     "output_type": "display_data"
    }
   ],
   "source": [
    "train[\"CryoSleep\"] = label_encoder.fit_transform(train['Transported'])\n",
    "\n",
    "\n",
    "train[\"CryoSleep\"].value_counts().plot.barh()"
   ]
  },
  {
   "cell_type": "code",
   "execution_count": 12,
   "id": "7f217010-582e-41d6-9fd1-5ee64242d883",
   "metadata": {
    "execution": {
     "iopub.execute_input": "2024-12-20T22:04:29.160080Z",
     "iopub.status.busy": "2024-12-20T22:04:29.158524Z",
     "iopub.status.idle": "2024-12-20T22:04:29.177829Z",
     "shell.execute_reply": "2024-12-20T22:04:29.177363Z"
    },
    "papermill": {
     "duration": 0.030698,
     "end_time": "2024-12-20T22:04:29.177917",
     "exception": false,
     "start_time": "2024-12-20T22:04:29.147219",
     "status": "completed"
    },
    "tags": []
   },
   "outputs": [
    {
     "name": "stderr",
     "output_type": "stream",
     "text": [
      "/tmp/ipykernel_2462/1305261938.py:1: FutureWarning: The default value of numeric_only in DataFrame.mean is deprecated. In a future version, it will default to False. In addition, specifying 'numeric_only=None' is deprecated. Select only valid columns or specify the value of numeric_only to silence this warning.\n",
      "  train = train.fillna(train.mean())\n"
     ]
    }
   ],
   "source": [
    "train = train.fillna(train.mean())"
   ]
  },
  {
   "cell_type": "code",
   "execution_count": 13,
   "id": "68026456-4ca0-4be2-8674-59793765707e",
   "metadata": {
    "execution": {
     "iopub.execute_input": "2024-12-20T22:04:30.195573Z",
     "iopub.status.busy": "2024-12-20T22:04:30.195112Z",
     "iopub.status.idle": "2024-12-20T22:04:30.324787Z",
     "shell.execute_reply": "2024-12-20T22:04:30.324338Z"
    },
    "papermill": {
     "duration": 0.142043,
     "end_time": "2024-12-20T22:04:30.324874",
     "exception": false,
     "start_time": "2024-12-20T22:04:30.182831",
     "status": "completed"
    },
    "tags": []
   },
   "outputs": [],
   "source": [
    "train.to_csv('train.csv')"
   ]
  }
 ],
 "metadata": {
  "kernelspec": {
   "display_name": "Python 3 (ipykernel)",
   "language": "python",
   "name": "python3"
  },
  "language_info": {
   "codemirror_mode": {
    "name": "ipython",
    "version": 3
   },
   "file_extension": ".py",
   "mimetype": "text/x-python",
   "name": "python",
   "nbconvert_exporter": "python",
   "pygments_lexer": "ipython3",
   "version": "3.9.7"
  },
  "papermill": {
   "default_parameters": {},
   "duration": 10.509837,
   "end_time": "2024-12-20T22:04:30.653332",
   "environment_variables": {},
   "exception": null,
   "input_path": "/home/jovyan/work/ml-pipeline/data_preprocessing.ipynb",
   "output_path": "/home/jovyan/work/ml-pipeline/data_preprocessing.ipynb",
   "parameters": {},
   "start_time": "2024-12-20T22:04:20.143495",
   "version": "2.4.0"
  }
 },
 "nbformat": 4,
 "nbformat_minor": 5
}