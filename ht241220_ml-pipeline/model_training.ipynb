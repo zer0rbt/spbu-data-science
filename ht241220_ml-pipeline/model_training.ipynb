{
 "cells": [
  {
   "cell_type": "code",
   "execution_count": null,
   "id": "8c3be4a67fb8a51e",
   "metadata": {},
   "outputs": [],
   "source": [
    "import pandas as pd\n",
    "from sklearn.ensemble import RandomForestClassifier, GradientBoostingClassifier\n",
    "from sklearn.linear_model import LogisticRegression\n",
    "from sklearn.metrics import accuracy_score, classification_report"
   ]
  },
  {
   "cell_type": "code",
   "execution_count": null,
   "id": "276676e0-9c69-47ab-b722-905231c1ebc9",
   "metadata": {},
   "outputs": [],
   "source": [
    "train = pd.read_csv('train.csv')\n",
    "test = pd.read_csv('test.csv')"
   ]
  },
  {
   "cell_type": "code",
   "execution_count": null,
   "id": "689e122e311876c0",
   "metadata": {},
   "outputs": [],
   "source": [
    "X_train = train.drop(columns=[\"Transported\"])\n",
    "y_train = train[\"Transported\"]\n",
    "X_test = test.drop(columns=[\"Transported\"])\n",
    "y_test = test[\"Transported\"]"
   ]
  },
  {
   "cell_type": "markdown",
   "id": "e2ab26e03e1a723a",
   "metadata": {},
   "source": [
    "# 1. Random Forest"
   ]
  },
  {
   "cell_type": "code",
   "execution_count": null,
   "id": "8198b9f7dff66b07",
   "metadata": {},
   "outputs": [],
   "source": [
    "print(\"=== Random Forest ===\")\n",
    "rf_model = RandomForestClassifier(random_state=42)\n",
    "rf_model.fit(X_train, y_train)\n",
    "rf_preds = rf_model.predict(X_test)\n",
    "\n",
    "accuracy = accuracy_score(y_test, rf_preds)\n",
    "report = classification_report(y_test, rf_preds)\n",
    "\n",
    "with open('results.txt', 'a') as f:\n",
    "    f.write(\"\\n=== Random Forest ===\\n\")  \n",
    "    f.write(f\"Accuracy: {accuracy}\\n\")\n",
    "    f.write(\"\\nClassification Report:\\n\")\n",
    "    f.write(report)\n",
    "    f.write(\"\\n\" + \"=\"*50 + \"\\n\")"
   ]
  },
  {
   "cell_type": "markdown",
   "id": "3495df2e85a5440b",
   "metadata": {},
   "source": [
    "# 2. Logistic Regression"
   ]
  },
  {
   "cell_type": "code",
   "execution_count": null,
   "id": "41209e6fba1b0ab6",
   "metadata": {},
   "outputs": [],
   "source": [
    "# Обучение модели\n",
    "print(\"\\n=== Logistic Regression ===\")\n",
    "logreg_model = LogisticRegression(max_iter=1000, random_state=42)\n",
    "logreg_model.fit(X_train, y_train)\n",
    "logreg_preds = logreg_model.predict(X_test)\n",
    "\n",
    "# Получение метрик\n",
    "accuracy = accuracy_score(y_test, logreg_preds)\n",
    "report = classification_report(y_test, logreg_preds)\n",
    "\n",
    "\n",
    "with open('results.txt', 'a') as f:\n",
    "    f.write(\"\\n=== Logistic Regression ===\\n\")\n",
    "    f.write(f\"Accuracy: {accuracy}\\n\")\n",
    "    f.write(\"\\nClassification Report:\\n\")\n",
    "    f.write(report)\n",
    "    f.write(\"\\n\" + \"=\"*50 + \"\\n\")\n",
    "\n"
   ]
  },
  {
   "cell_type": "markdown",
   "id": "a46cefccb1d0ab1d",
   "metadata": {},
   "source": [
    "# 3. Gradient Boosting"
   ]
  },
  {
   "cell_type": "code",
   "execution_count": null,
   "id": "174e6e6a2b59dac2",
   "metadata": {},
   "outputs": [],
   "source": [
    "print(\"\\n=== Gradient Boosting ===\")\n",
    "gb_model = GradientBoostingClassifier(random_state=42)\n",
    "gb_model.fit(X_train, y_train)\n",
    "gb_preds = gb_model.predict(X_test)\n",
    "\n",
    "accuracy = accuracy_score(y_test, gb_preds)\n",
    "report = classification_report(y_test, gb_preds)\n",
    "\n",
    "with open('results.txt', 'a') as f:\n",
    "    f.write(\"\\n=== Gradient Boosting ===\\n\")\n",
    "    f.write(f\"Accuracy: {accuracy}\\n\")\n",
    "    f.write(\"\\nClassification Report:\\n\")\n",
    "    f.write(report)\n",
    "    f.write(\"\\n\" + \"=\"*50 + \"\\n\")\n",
    "\n"
   ]
  }
 ],
 "metadata": {
  "kernelspec": {
   "display_name": "Python 3 (ipykernel)",
   "language": "python",
   "name": "python3"
  },
  "language_info": {
   "codemirror_mode": {
    "name": "ipython",
    "version": 3
   },
   "file_extension": ".py",
   "mimetype": "text/x-python",
   "name": "python",
   "nbconvert_exporter": "python",
   "pygments_lexer": "ipython3",
   "version": "3.9.7"
  }
 },
 "nbformat": 4,
 "nbformat_minor": 5
}
