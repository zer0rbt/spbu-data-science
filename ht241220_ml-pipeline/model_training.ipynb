{
 "cells": [
  {
   "cell_type": "code",
   "execution_count": 1,
   "id": "8c3be4a67fb8a51e",
   "metadata": {
    "execution": {
     "iopub.execute_input": "2024-12-20T22:04:39.263848Z",
     "iopub.status.busy": "2024-12-20T22:04:39.263342Z",
     "iopub.status.idle": "2024-12-20T22:04:39.967950Z",
     "shell.execute_reply": "2024-12-20T22:04:39.967501Z"
    },
    "papermill": {
     "duration": 0.716622,
     "end_time": "2024-12-20T22:04:39.968042",
     "exception": false,
     "start_time": "2024-12-20T22:04:39.251420",
     "status": "completed"
    },
    "tags": []
   },
   "outputs": [],
   "source": [
    "import pandas as pd\n",
    "from sklearn.ensemble import RandomForestClassifier, GradientBoostingClassifier\n",
    "from sklearn.linear_model import LogisticRegression\n",
    "from sklearn.metrics import accuracy_score, classification_report\n",
    "from sklearn.model_selection import train_test_split"
   ]
  },
  {
   "cell_type": "code",
   "execution_count": 2,
   "id": "276676e0-9c69-47ab-b722-905231c1ebc9",
   "metadata": {
    "execution": {
     "iopub.execute_input": "2024-12-20T22:04:39.980909Z",
     "iopub.status.busy": "2024-12-20T22:04:39.980438Z",
     "iopub.status.idle": "2024-12-20T22:04:40.025892Z",
     "shell.execute_reply": "2024-12-20T22:04:40.026331Z"
    },
    "papermill": {
     "duration": 0.05367,
     "end_time": "2024-12-20T22:04:40.026435",
     "exception": false,
     "start_time": "2024-12-20T22:04:39.972765",
     "status": "completed"
    },
    "tags": []
   },
   "outputs": [],
   "source": [
    "train = pd.read_csv('train.csv')\n",
    "test = pd.read_csv('test.csv')"
   ]
  },
  {
   "cell_type": "code",
   "execution_count": 3,
   "id": "689e122e311876c0",
   "metadata": {
    "execution": {
     "iopub.execute_input": "2024-12-20T22:04:40.041534Z",
     "iopub.status.busy": "2024-12-20T22:04:40.040696Z",
     "iopub.status.idle": "2024-12-20T22:04:40.044715Z",
     "shell.execute_reply": "2024-12-20T22:04:40.044244Z"
    },
    "papermill": {
     "duration": 0.01374,
     "end_time": "2024-12-20T22:04:40.044807",
     "exception": false,
     "start_time": "2024-12-20T22:04:40.031067",
     "status": "completed"
    },
    "tags": []
   },
   "outputs": [],
   "source": [
    "X = train.drop('Transported', axis=1)\n",
    "y = train['Transported']\n",
    "X_train, X_test, y_train, y_test = train_test_split(X, y, test_size=0.2, random_state=42)"
   ]
  },
  {
   "cell_type": "markdown",
   "id": "e2ab26e03e1a723a",
   "metadata": {
    "papermill": {
     "duration": 0.004338,
     "end_time": "2024-12-20T22:04:40.053787",
     "exception": false,
     "start_time": "2024-12-20T22:04:40.049449",
     "status": "completed"
    },
    "tags": []
   },
   "source": [
    "# 1. Random Forest"
   ]
  },
  {
   "cell_type": "code",
   "execution_count": 4,
   "id": "8198b9f7dff66b07",
   "metadata": {
    "execution": {
     "iopub.execute_input": "2024-12-20T22:04:40.068549Z",
     "iopub.status.busy": "2024-12-20T22:04:40.067936Z",
     "iopub.status.idle": "2024-12-20T22:04:40.601948Z",
     "shell.execute_reply": "2024-12-20T22:04:40.601424Z"
    },
    "papermill": {
     "duration": 0.544529,
     "end_time": "2024-12-20T22:04:40.602089",
     "exception": false,
     "start_time": "2024-12-20T22:04:40.057560",
     "status": "completed"
    },
    "tags": []
   },
   "outputs": [
    {
     "name": "stdout",
     "output_type": "stream",
     "text": [
      "=== Random Forest ===\n"
     ]
    }
   ],
   "source": [
    "print(\"=== Random Forest ===\")\n",
    "rf_model = RandomForestClassifier(random_state=42)\n",
    "rf_model.fit(X_train, y_train)\n",
    "rf_preds = rf_model.predict(X_test)\n",
    "\n",
    "accuracy = accuracy_score(y_test, rf_preds)\n",
    "report = classification_report(y_test, rf_preds)\n",
    "\n",
    "with open('results.txt', 'a') as f:\n",
    "    f.write(\"\\n=== Random Forest ===\\n\")  \n",
    "    f.write(f\"Accuracy: {accuracy}\\n\")\n",
    "    f.write(\"\\nClassification Report:\\n\")\n",
    "    f.write(report)\n",
    "    f.write(\"\\n\" + \"=\"*50 + \"\\n\")"
   ]
  },
  {
   "cell_type": "markdown",
   "id": "a46cefccb1d0ab1d",
   "metadata": {
    "papermill": {
     "duration": 0.003818,
     "end_time": "2024-12-20T22:04:40.610564",
     "exception": false,
     "start_time": "2024-12-20T22:04:40.606746",
     "status": "completed"
    },
    "tags": []
   },
   "source": [
    "# 3. Gradient Boosting"
   ]
  }
 ],
 "metadata": {
  "kernelspec": {
   "display_name": "Python 3 (ipykernel)",
   "language": "python",
   "name": "python3"
  },
  "language_info": {
   "codemirror_mode": {
    "name": "ipython",
    "version": 3
   },
   "file_extension": ".py",
   "mimetype": "text/x-python",
   "name": "python",
   "nbconvert_exporter": "python",
   "pygments_lexer": "ipython3",
   "version": "3.9.7"
  },
  "papermill": {
   "default_parameters": {},
   "duration": 5.026411,
   "end_time": "2024-12-20T22:04:43.304582",
   "environment_variables": {},
   "exception": null,
   "input_path": "/home/jovyan/work/ml-pipeline/model_training.ipynb",
   "output_path": "/home/jovyan/work/ml-pipeline/model_training.ipynb",
   "parameters": {},
   "start_time": "2024-12-20T22:04:38.278171",
   "version": "2.4.0"
  }
 },
 "nbformat": 4,
 "nbformat_minor": 5
}