{
 "cells": [
  {
   "cell_type": "code",
   "execution_count": 1,
   "id": "8db1b868-1c03-4326-acb3-304c53ff263f",
   "metadata": {
    "execution": {
     "iopub.execute_input": "2024-12-20T22:04:31.620099Z",
     "iopub.status.busy": "2024-12-20T22:04:31.619617Z",
     "iopub.status.idle": "2024-12-20T22:04:36.420245Z",
     "shell.execute_reply": "2024-12-20T22:04:36.419867Z"
    },
    "papermill": {
     "duration": 4.813916,
     "end_time": "2024-12-20T22:04:36.420337",
     "exception": false,
     "start_time": "2024-12-20T22:04:31.606421",
     "status": "completed"
    },
    "tags": []
   },
   "outputs": [
    {
     "name": "stdout",
     "output_type": "stream",
     "text": [
      "Requirement already satisfied: category_encoders in /opt/conda/lib/python3.9/site-packages (2.6.4)\r\n",
      "Requirement already satisfied: statsmodels>=0.9.0 in /opt/conda/lib/python3.9/site-packages (from category_encoders) (0.14.4)\r\n",
      "Requirement already satisfied: scikit-learn>=0.20.0 in /opt/conda/lib/python3.9/site-packages (from category_encoders) (1.6.0)\r\n",
      "Requirement already satisfied: patsy>=0.5.1 in /opt/conda/lib/python3.9/site-packages (from category_encoders) (1.0.1)\r\n",
      "Requirement already satisfied: pandas>=1.0.5 in /opt/conda/lib/python3.9/site-packages (from category_encoders) (1.5.3)\r\n",
      "Requirement already satisfied: numpy>=1.14.0 in /opt/conda/lib/python3.9/site-packages (from category_encoders) (1.24.2)\r\n",
      "Requirement already satisfied: scipy>=1.0.0 in /opt/conda/lib/python3.9/site-packages (from category_encoders) (1.13.1)\r\n",
      "Requirement already satisfied: pytz>=2020.1 in /opt/conda/lib/python3.9/site-packages (from pandas>=1.0.5->category_encoders) (2021.3)\r\n",
      "Requirement already satisfied: python-dateutil>=2.8.1 in /opt/conda/lib/python3.9/site-packages (from pandas>=1.0.5->category_encoders) (2.8.2)\r\n"
     ]
    },
    {
     "name": "stdout",
     "output_type": "stream",
     "text": [
      "Requirement already satisfied: threadpoolctl>=3.1.0 in /opt/conda/lib/python3.9/site-packages (from scikit-learn>=0.20.0->category_encoders) (3.5.0)\r\n",
      "Requirement already satisfied: joblib>=1.2.0 in /opt/conda/lib/python3.9/site-packages (from scikit-learn>=0.20.0->category_encoders) (1.4.2)\r\n"
     ]
    },
    {
     "name": "stdout",
     "output_type": "stream",
     "text": [
      "Requirement already satisfied: packaging>=21.3 in /opt/conda/lib/python3.9/site-packages (from statsmodels>=0.9.0->category_encoders) (23.0)\r\n",
      "Requirement already satisfied: six>=1.5 in /opt/conda/lib/python3.9/site-packages (from python-dateutil>=2.8.1->pandas>=1.0.5->category_encoders) (1.16.0)\r\n"
     ]
    },
    {
     "name": "stdout",
     "output_type": "stream",
     "text": [
      "Requirement already satisfied: sklearn in /opt/conda/lib/python3.9/site-packages (0.0)\r\n",
      "Requirement already satisfied: scikit-learn in /opt/conda/lib/python3.9/site-packages (from sklearn) (1.6.0)\r\n"
     ]
    },
    {
     "name": "stdout",
     "output_type": "stream",
     "text": [
      "Requirement already satisfied: joblib>=1.2.0 in /opt/conda/lib/python3.9/site-packages (from scikit-learn->sklearn) (1.4.2)\r\n",
      "Requirement already satisfied: scipy>=1.6.0 in /opt/conda/lib/python3.9/site-packages (from scikit-learn->sklearn) (1.13.1)\r\n",
      "Requirement already satisfied: numpy>=1.19.5 in /opt/conda/lib/python3.9/site-packages (from scikit-learn->sklearn) (1.24.2)\r\n",
      "Requirement already satisfied: threadpoolctl>=3.1.0 in /opt/conda/lib/python3.9/site-packages (from scikit-learn->sklearn) (3.5.0)\r\n"
     ]
    }
   ],
   "source": [
    "!pip install category_encoders\n",
    "!pip install sklearn\n"
   ]
  },
  {
   "cell_type": "code",
   "execution_count": 2,
   "id": "688ee385-9f25-4d62-8735-3f3025a14ee7",
   "metadata": {
    "execution": {
     "iopub.execute_input": "2024-12-20T22:04:36.437201Z",
     "iopub.status.busy": "2024-12-20T22:04:36.436593Z",
     "iopub.status.idle": "2024-12-20T22:04:37.176168Z",
     "shell.execute_reply": "2024-12-20T22:04:37.175599Z"
    },
    "papermill": {
     "duration": 0.74957,
     "end_time": "2024-12-20T22:04:37.176297",
     "exception": false,
     "start_time": "2024-12-20T22:04:36.426727",
     "status": "completed"
    },
    "tags": []
   },
   "outputs": [],
   "source": [
    "import pandas as pd\n",
    "from sklearn.preprocessing import LabelEncoder\n",
    "import category_encoders as ce"
   ]
  },
  {
   "cell_type": "code",
   "execution_count": 3,
   "id": "19870835-1961-44da-a794-15ab1312b2ce",
   "metadata": {
    "execution": {
     "iopub.execute_input": "2024-12-20T22:04:37.193263Z",
     "iopub.status.busy": "2024-12-20T22:04:37.192359Z",
     "iopub.status.idle": "2024-12-20T22:04:37.211344Z",
     "shell.execute_reply": "2024-12-20T22:04:37.210862Z"
    },
    "papermill": {
     "duration": 0.028023,
     "end_time": "2024-12-20T22:04:37.211433",
     "exception": false,
     "start_time": "2024-12-20T22:04:37.183410",
     "status": "completed"
    },
    "tags": []
   },
   "outputs": [],
   "source": [
    "train = pd.read_csv('test.csv')"
   ]
  },
  {
   "cell_type": "markdown",
   "id": "759362410bf14fc6",
   "metadata": {
    "papermill": {
     "duration": 0.005564,
     "end_time": "2024-12-20T22:04:37.222674",
     "exception": false,
     "start_time": "2024-12-20T22:04:37.217110",
     "status": "completed"
    },
    "tags": []
   },
   "source": [
    "# EDA + Feature Engineering"
   ]
  },
  {
   "cell_type": "markdown",
   "id": "3ea487e27f1312d9",
   "metadata": {
    "papermill": {
     "duration": 0.005649,
     "end_time": "2024-12-20T22:04:37.233808",
     "exception": false,
     "start_time": "2024-12-20T22:04:37.228159",
     "status": "completed"
    },
    "tags": []
   },
   "source": [
    "Сделаем признаки Group (вычленим группу из PassangerId) и разобъём признак Cabin на составляющие "
   ]
  },
  {
   "cell_type": "code",
   "execution_count": 4,
   "id": "c0463add0f64243f",
   "metadata": {
    "ExecuteTime": {
     "end_time": "2024-10-04T23:03:29.706927Z",
     "start_time": "2024-10-04T23:03:29.655545Z"
    },
    "collapsed": false,
    "execution": {
     "iopub.execute_input": "2024-12-20T22:04:37.262030Z",
     "iopub.status.busy": "2024-12-20T22:04:37.249038Z",
     "iopub.status.idle": "2024-12-20T22:04:37.288312Z",
     "shell.execute_reply": "2024-12-20T22:04:37.287848Z"
    },
    "jupyter": {
     "outputs_hidden": false
    },
    "papermill": {
     "duration": 0.048832,
     "end_time": "2024-12-20T22:04:37.288398",
     "exception": false,
     "start_time": "2024-12-20T22:04:37.239566",
     "status": "completed"
    },
    "tags": []
   },
   "outputs": [
    {
     "data": {
      "text/html": [
       "<div>\n",
       "<style scoped>\n",
       "    .dataframe tbody tr th:only-of-type {\n",
       "        vertical-align: middle;\n",
       "    }\n",
       "\n",
       "    .dataframe tbody tr th {\n",
       "        vertical-align: top;\n",
       "    }\n",
       "\n",
       "    .dataframe thead th {\n",
       "        text-align: right;\n",
       "    }\n",
       "</style>\n",
       "<table border=\"1\" class=\"dataframe\">\n",
       "  <thead>\n",
       "    <tr style=\"text-align: right;\">\n",
       "      <th></th>\n",
       "      <th>Unnamed: 0</th>\n",
       "      <th>PassengerId</th>\n",
       "      <th>HomePlanet</th>\n",
       "      <th>CryoSleep</th>\n",
       "      <th>Cabin</th>\n",
       "      <th>Destination</th>\n",
       "      <th>Age</th>\n",
       "      <th>VIP</th>\n",
       "      <th>RoomService</th>\n",
       "      <th>FoodCourt</th>\n",
       "      <th>ShoppingMall</th>\n",
       "      <th>Spa</th>\n",
       "      <th>VRDeck</th>\n",
       "      <th>Name</th>\n",
       "      <th>Group</th>\n",
       "      <th>Deck</th>\n",
       "      <th>Num</th>\n",
       "      <th>Side</th>\n",
       "    </tr>\n",
       "  </thead>\n",
       "  <tbody>\n",
       "    <tr>\n",
       "      <th>0</th>\n",
       "      <td>0</td>\n",
       "      <td>0013_01</td>\n",
       "      <td>Earth</td>\n",
       "      <td>True</td>\n",
       "      <td>G/3/S</td>\n",
       "      <td>TRAPPIST-1e</td>\n",
       "      <td>27.0</td>\n",
       "      <td>False</td>\n",
       "      <td>0.0</td>\n",
       "      <td>0.0</td>\n",
       "      <td>0.0</td>\n",
       "      <td>0.0</td>\n",
       "      <td>0.0</td>\n",
       "      <td>Nelly Carsoning</td>\n",
       "      <td>0013</td>\n",
       "      <td>G</td>\n",
       "      <td>3</td>\n",
       "      <td>S</td>\n",
       "    </tr>\n",
       "    <tr>\n",
       "      <th>1</th>\n",
       "      <td>1</td>\n",
       "      <td>0018_01</td>\n",
       "      <td>Earth</td>\n",
       "      <td>False</td>\n",
       "      <td>F/4/S</td>\n",
       "      <td>TRAPPIST-1e</td>\n",
       "      <td>19.0</td>\n",
       "      <td>False</td>\n",
       "      <td>0.0</td>\n",
       "      <td>9.0</td>\n",
       "      <td>0.0</td>\n",
       "      <td>2823.0</td>\n",
       "      <td>0.0</td>\n",
       "      <td>Lerome Peckers</td>\n",
       "      <td>0018</td>\n",
       "      <td>F</td>\n",
       "      <td>4</td>\n",
       "      <td>S</td>\n",
       "    </tr>\n",
       "    <tr>\n",
       "      <th>2</th>\n",
       "      <td>2</td>\n",
       "      <td>0019_01</td>\n",
       "      <td>Europa</td>\n",
       "      <td>True</td>\n",
       "      <td>C/0/S</td>\n",
       "      <td>55 Cancri e</td>\n",
       "      <td>31.0</td>\n",
       "      <td>False</td>\n",
       "      <td>0.0</td>\n",
       "      <td>0.0</td>\n",
       "      <td>0.0</td>\n",
       "      <td>0.0</td>\n",
       "      <td>0.0</td>\n",
       "      <td>Sabih Unhearfus</td>\n",
       "      <td>0019</td>\n",
       "      <td>C</td>\n",
       "      <td>0</td>\n",
       "      <td>S</td>\n",
       "    </tr>\n",
       "    <tr>\n",
       "      <th>3</th>\n",
       "      <td>3</td>\n",
       "      <td>0021_01</td>\n",
       "      <td>Europa</td>\n",
       "      <td>False</td>\n",
       "      <td>C/1/S</td>\n",
       "      <td>TRAPPIST-1e</td>\n",
       "      <td>38.0</td>\n",
       "      <td>False</td>\n",
       "      <td>0.0</td>\n",
       "      <td>6652.0</td>\n",
       "      <td>0.0</td>\n",
       "      <td>181.0</td>\n",
       "      <td>585.0</td>\n",
       "      <td>Meratz Caltilter</td>\n",
       "      <td>0021</td>\n",
       "      <td>C</td>\n",
       "      <td>1</td>\n",
       "      <td>S</td>\n",
       "    </tr>\n",
       "    <tr>\n",
       "      <th>4</th>\n",
       "      <td>4</td>\n",
       "      <td>0023_01</td>\n",
       "      <td>Earth</td>\n",
       "      <td>False</td>\n",
       "      <td>F/5/S</td>\n",
       "      <td>TRAPPIST-1e</td>\n",
       "      <td>20.0</td>\n",
       "      <td>False</td>\n",
       "      <td>10.0</td>\n",
       "      <td>0.0</td>\n",
       "      <td>635.0</td>\n",
       "      <td>0.0</td>\n",
       "      <td>0.0</td>\n",
       "      <td>Brence Harperez</td>\n",
       "      <td>0023</td>\n",
       "      <td>F</td>\n",
       "      <td>5</td>\n",
       "      <td>S</td>\n",
       "    </tr>\n",
       "  </tbody>\n",
       "</table>\n",
       "</div>"
      ],
      "text/plain": [
       "   Unnamed: 0 PassengerId HomePlanet CryoSleep  Cabin  Destination   Age  \\\n",
       "0           0     0013_01      Earth      True  G/3/S  TRAPPIST-1e  27.0   \n",
       "1           1     0018_01      Earth     False  F/4/S  TRAPPIST-1e  19.0   \n",
       "2           2     0019_01     Europa      True  C/0/S  55 Cancri e  31.0   \n",
       "3           3     0021_01     Europa     False  C/1/S  TRAPPIST-1e  38.0   \n",
       "4           4     0023_01      Earth     False  F/5/S  TRAPPIST-1e  20.0   \n",
       "\n",
       "     VIP  RoomService  FoodCourt  ShoppingMall     Spa  VRDeck  \\\n",
       "0  False          0.0        0.0           0.0     0.0     0.0   \n",
       "1  False          0.0        9.0           0.0  2823.0     0.0   \n",
       "2  False          0.0        0.0           0.0     0.0     0.0   \n",
       "3  False          0.0     6652.0           0.0   181.0   585.0   \n",
       "4  False         10.0        0.0         635.0     0.0     0.0   \n",
       "\n",
       "               Name Group Deck Num Side  \n",
       "0   Nelly Carsoning  0013    G   3    S  \n",
       "1    Lerome Peckers  0018    F   4    S  \n",
       "2   Sabih Unhearfus  0019    C   0    S  \n",
       "3  Meratz Caltilter  0021    C   1    S  \n",
       "4   Brence Harperez  0023    F   5    S  "
      ]
     },
     "execution_count": 4,
     "metadata": {},
     "output_type": "execute_result"
    }
   ],
   "source": [
    "train['Group'] = train.PassengerId.str.split(\"_\").str[0]\n",
    "train['Deck'] = train.Cabin.str.split(\"/\").str[0]\n",
    "train['Num'] = train.Cabin.str.split(\"/\").str[1]\n",
    "train['Side'] = train.Cabin.str.split(\"/\").str[2]\n",
    "\n",
    "\n",
    "train.head()"
   ]
  },
  {
   "cell_type": "markdown",
   "id": "e658517fc92de7f9",
   "metadata": {
    "papermill": {
     "duration": 0.005566,
     "end_time": "2024-12-20T22:04:37.300125",
     "exception": false,
     "start_time": "2024-12-20T22:04:37.294559",
     "status": "completed"
    },
    "tags": []
   },
   "source": [
    "...и удалим ненужные признаки."
   ]
  },
  {
   "cell_type": "code",
   "execution_count": 5,
   "id": "998cf078bf73c35f",
   "metadata": {
    "ExecuteTime": {
     "end_time": "2024-10-04T23:03:29.874087Z",
     "start_time": "2024-10-04T23:03:29.867933Z"
    },
    "execution": {
     "iopub.execute_input": "2024-12-20T22:04:37.317645Z",
     "iopub.status.busy": "2024-12-20T22:04:37.317204Z",
     "iopub.status.idle": "2024-12-20T22:04:37.319842Z",
     "shell.execute_reply": "2024-12-20T22:04:37.319459Z"
    },
    "papermill": {
     "duration": 0.014227,
     "end_time": "2024-12-20T22:04:37.319973",
     "exception": false,
     "start_time": "2024-12-20T22:04:37.305746",
     "status": "completed"
    },
    "tags": []
   },
   "outputs": [],
   "source": [
    "train = train.drop(columns=\"PassengerId\")\n",
    "train = train.drop(columns=\"Cabin\")"
   ]
  },
  {
   "cell_type": "markdown",
   "id": "ff93e0d884d2ecee",
   "metadata": {
    "papermill": {
     "duration": 0.006111,
     "end_time": "2024-12-20T22:04:37.332158",
     "exception": false,
     "start_time": "2024-12-20T22:04:37.326047",
     "status": "completed"
    },
    "tags": []
   },
   "source": [
    "## Encode'им категориальные признаки"
   ]
  },
  {
   "cell_type": "markdown",
   "id": "6847ff4bb2aef1c6",
   "metadata": {
    "papermill": {
     "duration": 0.006103,
     "end_time": "2024-12-20T22:04:37.344206",
     "exception": false,
     "start_time": "2024-12-20T22:04:37.338103",
     "status": "completed"
    },
    "tags": []
   },
   "source": [
    "Сначала посмотрим на Home."
   ]
  },
  {
   "cell_type": "code",
   "execution_count": 6,
   "id": "536a0746a5fe4e5b",
   "metadata": {
    "ExecuteTime": {
     "end_time": "2024-10-04T23:03:30.062930Z",
     "start_time": "2024-10-04T23:03:29.929073Z"
    },
    "collapsed": false,
    "execution": {
     "iopub.execute_input": "2024-12-20T22:04:37.361731Z",
     "iopub.status.busy": "2024-12-20T22:04:37.360597Z",
     "iopub.status.idle": "2024-12-20T22:04:37.858158Z",
     "shell.execute_reply": "2024-12-20T22:04:37.857764Z"
    },
    "jupyter": {
     "outputs_hidden": false
    },
    "papermill": {
     "duration": 0.508145,
     "end_time": "2024-12-20T22:04:37.858245",
     "exception": false,
     "start_time": "2024-12-20T22:04:37.350100",
     "status": "completed"
    },
    "tags": []
   },
   "outputs": [
    {
     "data": {
      "text/plain": [
       "<Axes: >"
      ]
     },
     "execution_count": 6,
     "metadata": {},
     "output_type": "execute_result"
    },
    {
     "data": {
      "image/png": "[encoded data removed]",
      "text/plain": [
       "<Figure size 432x288 with 1 Axes>"
      ]
     },
     "metadata": {
      "needs_background": "light"
     },
     "output_type": "display_data"
    }
   ],
   "source": [
    "train.HomePlanet.value_counts().plot.barh()"
   ]
  },
  {
   "cell_type": "markdown",
   "id": "7ba70207dcea988f",
   "metadata": {
    "papermill": {
     "duration": 0.005873,
     "end_time": "2024-12-20T22:04:37.870267",
     "exception": false,
     "start_time": "2024-12-20T22:04:37.864394",
     "status": "completed"
    },
    "tags": []
   },
   "source": [
    "Для кодирования используем count encoder"
   ]
  },
  {
   "cell_type": "code",
   "execution_count": 7,
   "id": "68026456-4ca0-4be2-8674-59793765707e",
   "metadata": {
    "execution": {
     "iopub.execute_input": "2024-12-20T22:04:37.885768Z",
     "iopub.status.busy": "2024-12-20T22:04:37.885323Z",
     "iopub.status.idle": "2024-12-20T22:04:37.935323Z",
     "shell.execute_reply": "2024-12-20T22:04:37.934882Z"
    },
    "papermill": {
     "duration": 0.05929,
     "end_time": "2024-12-20T22:04:37.935411",
     "exception": false,
     "start_time": "2024-12-20T22:04:37.876121",
     "status": "completed"
    },
    "tags": []
   },
   "outputs": [],
   "source": [
    "train.to_csv('test.csv')"
   ]
  }
 ],
 "metadata": {
  "kernelspec": {
   "display_name": "Python 3 (ipykernel)",
   "language": "python",
   "name": "python3"
  },
  "language_info": {
   "codemirror_mode": {
    "name": "ipython",
    "version": 3
   },
   "file_extension": ".py",
   "mimetype": "text/x-python",
   "name": "python",
   "nbconvert_exporter": "python",
   "pygments_lexer": "ipython3",
   "version": "3.9.7"
  },
  "papermill": {
   "default_parameters": {},
   "duration": 7.577356,
   "end_time": "2024-12-20T22:04:38.259060",
   "environment_variables": {},
   "exception": null,
   "input_path": "/home/jovyan/work/ml-pipeline/data_preprocessing-test.ipynb",
   "output_path": "/home/jovyan/work/ml-pipeline/data_preprocessing-test.ipynb",
   "parameters": {},
   "start_time": "2024-12-20T22:04:30.681704",
   "version": "2.4.0"
  }
 },
 "nbformat": 4,
 "nbformat_minor": 5
}