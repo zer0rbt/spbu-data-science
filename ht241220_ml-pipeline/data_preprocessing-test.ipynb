{
 "cells": [
  {
   "cell_type": "code",
   "execution_count": null,
   "id": "8db1b868-1c03-4326-acb3-304c53ff263f",
   "metadata": {},
   "outputs": [],
   "source": [
    "import pandas as pd\n",
    "from sklearn.preprocessing import LabelEncoder\n",
    "import category_encoders as ce"
   ]
  },
  {
   "cell_type": "code",
   "execution_count": null,
   "id": "19870835-1961-44da-a794-15ab1312b2ce",
   "metadata": {},
   "outputs": [],
   "source": [
    "train = pd.read_csv('test.csv')"
   ]
  },
  {
   "cell_type": "markdown",
   "id": "759362410bf14fc6",
   "metadata": {},
   "source": [
    "# EDA + Feature Engineering"
   ]
  },
  {
   "cell_type": "markdown",
   "id": "3ea487e27f1312d9",
   "metadata": {},
   "source": [
    "Сделаем признаки Group (вычленим группу из PassangerId) и разобъём признак Cabin на составляющие "
   ]
  },
  {
   "cell_type": "code",
   "execution_count": 283,
   "id": "c0463add0f64243f",
   "metadata": {
    "ExecuteTime": {
     "end_time": "2024-10-04T23:03:29.706927Z",
     "start_time": "2024-10-04T23:03:29.655545Z"
    },
    "collapsed": false,
    "jupyter": {
     "outputs_hidden": false
    }
   },
   "outputs": [
    {
     "data": {
      "text/html": [
       "<div>\n",
       "<style scoped>\n",
       "    .dataframe tbody tr th:only-of-type {\n",
       "        vertical-align: middle;\n",
       "    }\n",
       "\n",
       "    .dataframe tbody tr th {\n",
       "        vertical-align: top;\n",
       "    }\n",
       "\n",
       "    .dataframe thead th {\n",
       "        text-align: right;\n",
       "    }\n",
       "</style>\n",
       "<table border=\"1\" class=\"dataframe\">\n",
       "  <thead>\n",
       "    <tr style=\"text-align: right;\">\n",
       "      <th></th>\n",
       "      <th>PassengerId</th>\n",
       "      <th>HomePlanet</th>\n",
       "      <th>CryoSleep</th>\n",
       "      <th>Cabin</th>\n",
       "      <th>Destination</th>\n",
       "      <th>Age</th>\n",
       "      <th>VIP</th>\n",
       "      <th>RoomService</th>\n",
       "      <th>FoodCourt</th>\n",
       "      <th>ShoppingMall</th>\n",
       "      <th>Spa</th>\n",
       "      <th>VRDeck</th>\n",
       "      <th>Name</th>\n",
       "      <th>Transported</th>\n",
       "      <th>Group</th>\n",
       "      <th>Deck</th>\n",
       "      <th>Num</th>\n",
       "      <th>Side</th>\n",
       "    </tr>\n",
       "  </thead>\n",
       "  <tbody>\n",
       "    <tr>\n",
       "      <th>0</th>\n",
       "      <td>0001_01</td>\n",
       "      <td>Europa</td>\n",
       "      <td>False</td>\n",
       "      <td>B/0/P</td>\n",
       "      <td>TRAPPIST-1e</td>\n",
       "      <td>39.0</td>\n",
       "      <td>False</td>\n",
       "      <td>0.0</td>\n",
       "      <td>0.0</td>\n",
       "      <td>0.0</td>\n",
       "      <td>0.0</td>\n",
       "      <td>0.0</td>\n",
       "      <td>Maham Ofracculy</td>\n",
       "      <td>False</td>\n",
       "      <td>0001</td>\n",
       "      <td>B</td>\n",
       "      <td>0</td>\n",
       "      <td>P</td>\n",
       "    </tr>\n",
       "    <tr>\n",
       "      <th>1</th>\n",
       "      <td>0002_01</td>\n",
       "      <td>Earth</td>\n",
       "      <td>False</td>\n",
       "      <td>F/0/S</td>\n",
       "      <td>TRAPPIST-1e</td>\n",
       "      <td>24.0</td>\n",
       "      <td>False</td>\n",
       "      <td>109.0</td>\n",
       "      <td>9.0</td>\n",
       "      <td>25.0</td>\n",
       "      <td>549.0</td>\n",
       "      <td>44.0</td>\n",
       "      <td>Juanna Vines</td>\n",
       "      <td>True</td>\n",
       "      <td>0002</td>\n",
       "      <td>F</td>\n",
       "      <td>0</td>\n",
       "      <td>S</td>\n",
       "    </tr>\n",
       "    <tr>\n",
       "      <th>2</th>\n",
       "      <td>0003_01</td>\n",
       "      <td>Europa</td>\n",
       "      <td>False</td>\n",
       "      <td>A/0/S</td>\n",
       "      <td>TRAPPIST-1e</td>\n",
       "      <td>58.0</td>\n",
       "      <td>True</td>\n",
       "      <td>43.0</td>\n",
       "      <td>3576.0</td>\n",
       "      <td>0.0</td>\n",
       "      <td>6715.0</td>\n",
       "      <td>49.0</td>\n",
       "      <td>Altark Susent</td>\n",
       "      <td>False</td>\n",
       "      <td>0003</td>\n",
       "      <td>A</td>\n",
       "      <td>0</td>\n",
       "      <td>S</td>\n",
       "    </tr>\n",
       "    <tr>\n",
       "      <th>3</th>\n",
       "      <td>0003_02</td>\n",
       "      <td>Europa</td>\n",
       "      <td>False</td>\n",
       "      <td>A/0/S</td>\n",
       "      <td>TRAPPIST-1e</td>\n",
       "      <td>33.0</td>\n",
       "      <td>False</td>\n",
       "      <td>0.0</td>\n",
       "      <td>1283.0</td>\n",
       "      <td>371.0</td>\n",
       "      <td>3329.0</td>\n",
       "      <td>193.0</td>\n",
       "      <td>Solam Susent</td>\n",
       "      <td>False</td>\n",
       "      <td>0003</td>\n",
       "      <td>A</td>\n",
       "      <td>0</td>\n",
       "      <td>S</td>\n",
       "    </tr>\n",
       "    <tr>\n",
       "      <th>4</th>\n",
       "      <td>0004_01</td>\n",
       "      <td>Earth</td>\n",
       "      <td>False</td>\n",
       "      <td>F/1/S</td>\n",
       "      <td>TRAPPIST-1e</td>\n",
       "      <td>16.0</td>\n",
       "      <td>False</td>\n",
       "      <td>303.0</td>\n",
       "      <td>70.0</td>\n",
       "      <td>151.0</td>\n",
       "      <td>565.0</td>\n",
       "      <td>2.0</td>\n",
       "      <td>Willy Santantines</td>\n",
       "      <td>True</td>\n",
       "      <td>0004</td>\n",
       "      <td>F</td>\n",
       "      <td>1</td>\n",
       "      <td>S</td>\n",
       "    </tr>\n",
       "  </tbody>\n",
       "</table>\n",
       "</div>"
      ],
      "text/plain": [
       "  PassengerId HomePlanet CryoSleep  Cabin  Destination   Age    VIP  \\\n",
       "0     0001_01     Europa     False  B/0/P  TRAPPIST-1e  39.0  False   \n",
       "1     0002_01      Earth     False  F/0/S  TRAPPIST-1e  24.0  False   \n",
       "2     0003_01     Europa     False  A/0/S  TRAPPIST-1e  58.0   True   \n",
       "3     0003_02     Europa     False  A/0/S  TRAPPIST-1e  33.0  False   \n",
       "4     0004_01      Earth     False  F/1/S  TRAPPIST-1e  16.0  False   \n",
       "\n",
       "   RoomService  FoodCourt  ShoppingMall     Spa  VRDeck               Name  \\\n",
       "0          0.0        0.0           0.0     0.0     0.0    Maham Ofracculy   \n",
       "1        109.0        9.0          25.0   549.0    44.0       Juanna Vines   \n",
       "2         43.0     3576.0           0.0  6715.0    49.0      Altark Susent   \n",
       "3          0.0     1283.0         371.0  3329.0   193.0       Solam Susent   \n",
       "4        303.0       70.0         151.0   565.0     2.0  Willy Santantines   \n",
       "\n",
       "   Transported Group Deck Num Side  \n",
       "0        False  0001    B   0    P  \n",
       "1         True  0002    F   0    S  \n",
       "2        False  0003    A   0    S  \n",
       "3        False  0003    A   0    S  \n",
       "4         True  0004    F   1    S  "
      ]
     },
     "execution_count": 283,
     "metadata": {},
     "output_type": "execute_result"
    }
   ],
   "source": [
    "train['Group'] = train.PassengerId.str.split(\"_\").str[0]\n",
    "train['Deck'] = train.Cabin.str.split(\"/\").str[0]\n",
    "train['Num'] = train.Cabin.str.split(\"/\").str[1]\n",
    "train['Side'] = train.Cabin.str.split(\"/\").str[2]\n",
    "\n",
    "\n",
    "train.head()"
   ]
  },
  {
   "cell_type": "markdown",
   "id": "e658517fc92de7f9",
   "metadata": {},
   "source": [
    "...и удалим ненужные признаки."
   ]
  },
  {
   "cell_type": "code",
   "execution_count": 284,
   "id": "998cf078bf73c35f",
   "metadata": {
    "ExecuteTime": {
     "end_time": "2024-10-04T23:03:29.874087Z",
     "start_time": "2024-10-04T23:03:29.867933Z"
    }
   },
   "outputs": [],
   "source": [
    "train = train.drop(columns=\"PassengerId\")\n",
    "train = train.drop(columns=\"Cabin\")"
   ]
  },
  {
   "cell_type": "markdown",
   "id": "ff93e0d884d2ecee",
   "metadata": {},
   "source": [
    "## Encode'им категориальные признаки"
   ]
  },
  {
   "cell_type": "markdown",
   "id": "6847ff4bb2aef1c6",
   "metadata": {},
   "source": [
    "Сначала посмотрим на Home."
   ]
  },
  {
   "cell_type": "code",
   "execution_count": 285,
   "id": "536a0746a5fe4e5b",
   "metadata": {
    "ExecuteTime": {
     "end_time": "2024-10-04T23:03:30.062930Z",
     "start_time": "2024-10-04T23:03:29.929073Z"
    },
    "collapsed": false,
    "jupyter": {
     "outputs_hidden": false
    }
   },
   "outputs": [
    {
     "data": {
      "text/plain": [
       "<Axes: ylabel='HomePlanet'>"
      ]
     },
     "execution_count": 285,
     "metadata": {},
     "output_type": "execute_result"
    },
    {
     "data": {
      "image/png": "[encoded data removed]",
      "text/plain": [
       "<Figure size 640x480 with 1 Axes>"
      ]
     },
     "metadata": {},
     "output_type": "display_data"
    }
   ],
   "source": [
    "train.HomePlanet.value_counts().plot.barh()"
   ]
  },
  {
   "cell_type": "markdown",
   "id": "7ba70207dcea988f",
   "metadata": {},
   "source": [
    "Для кодирования используем count encoder"
   ]
  },
  {
   "cell_type": "code",
   "execution_count": 288,
   "id": "234257a752488c8d",
   "metadata": {
    "ExecuteTime": {
     "end_time": "2024-10-04T23:03:30.481463Z",
     "start_time": "2024-10-04T23:03:30.313474Z"
    },
    "collapsed": false,
    "jupyter": {
     "outputs_hidden": false
    }
   },
   "outputs": [
    {
     "data": {
      "text/plain": [
       "<Axes: ylabel='HomePlanet'>"
      ]
     },
     "execution_count": 288,
     "metadata": {},
     "output_type": "execute_result"
    },
    {
     "data": {
      "image/png": "[encoded data removed]",
      "text/plain": [
       "<Figure size 640x480 with 1 Axes>"
      ]
     },
     "metadata": {},
     "output_type": "display_data"
    }
   ],
   "source": [
    "count_encoder = ce.CountEncoder(normalize=True)\n",
    "train[\"HomePlanet\"] = count_encoder.fit_transform(train['HomePlanet'], train['Transported'])\n",
    "\n",
    "train[\"HomePlanet\"].value_counts().plot.barh()"
   ]
  },
  {
   "cell_type": "markdown",
   "id": "526ae0ad53002013",
   "metadata": {},
   "source": [
    "Теперь разберемся с Transported. Закодируем его Label Encoder'ом - благо в нем и так bool значения."
   ]
  },
  {
   "cell_type": "code",
   "execution_count": 289,
   "id": "132bdcc81502fc13",
   "metadata": {
    "ExecuteTime": {
     "end_time": "2024-10-04T23:03:30.645573Z",
     "start_time": "2024-10-04T23:03:30.482461Z"
    },
    "collapsed": false,
    "jupyter": {
     "outputs_hidden": false
    }
   },
   "outputs": [
    {
     "data": {
      "text/plain": [
       "<Axes: ylabel='Transported'>"
      ]
     },
     "execution_count": 289,
     "metadata": {},
     "output_type": "execute_result"
    },
    {
     "data": {
      "image/png": "[encoded data removed]",
      "text/plain": [
       "<Figure size 640x480 with 1 Axes>"
      ]
     },
     "metadata": {},
     "output_type": "display_data"
    }
   ],
   "source": [
    "label_encoder = LabelEncoder()\n",
    "\n",
    "train[\"Transported\"] = label_encoder.fit_transform(train['Transported'])\n",
    "\n",
    "train[\"Transported\"].value_counts().plot.barh()"
   ]
  },
  {
   "cell_type": "markdown",
   "id": "554482e1e4204c82",
   "metadata": {},
   "source": [
    "Теперь разберемся с VIP. Тут тоже поможет LabelEncoder."
   ]
  },
  {
   "cell_type": "code",
   "execution_count": 290,
   "id": "d03c940126f6f0f4",
   "metadata": {
    "ExecuteTime": {
     "end_time": "2024-10-04T23:03:30.834448Z",
     "start_time": "2024-10-04T23:03:30.646571Z"
    },
    "collapsed": false,
    "jupyter": {
     "outputs_hidden": false
    }
   },
   "outputs": [
    {
     "data": {
      "text/plain": [
       "<Axes: ylabel='VIP'>"
      ]
     },
     "execution_count": 290,
     "metadata": {},
     "output_type": "execute_result"
    },
    {
     "data": {
      "image/png": "[encoded data removed]",
      "text/plain": [
       "<Figure size 640x480 with 1 Axes>"
      ]
     },
     "metadata": {},
     "output_type": "display_data"
    }
   ],
   "source": [
    "label_encoder = LabelEncoder()\n",
    "\n",
    "train[\"VIP\"] = label_encoder.fit_transform(train['VIP'])\n",
    "\n",
    "train[\"VIP\"].value_counts().plot.barh()"
   ]
  },
  {
   "cell_type": "markdown",
   "id": "6cc2e1db3e3817c0",
   "metadata": {},
   "source": [
    "Теперь разбираемся с Deck, Side и Destination - тут снова Count Encoder."
   ]
  },
  {
   "cell_type": "code",
   "execution_count": 291,
   "id": "21242ba04920e174",
   "metadata": {
    "ExecuteTime": {
     "end_time": "2024-10-04T23:03:31.034500Z",
     "start_time": "2024-10-04T23:03:30.835546Z"
    },
    "collapsed": false,
    "jupyter": {
     "outputs_hidden": false
    }
   },
   "outputs": [
    {
     "data": {
      "text/plain": [
       "<Axes: ylabel='Destination'>"
      ]
     },
     "execution_count": 291,
     "metadata": {},
     "output_type": "execute_result"
    },
    {
     "data": {
      "image/png": "[encoded data removed]",
      "text/plain": [
       "<Figure size 640x480 with 1 Axes>"
      ]
     },
     "metadata": {},
     "output_type": "display_data"
    }
   ],
   "source": [
    "train[\"Deck\"] = count_encoder.fit_transform(train['Deck'], train[\"Transported\"])\n",
    "\n",
    "\n",
    "train[\"Side\"] = count_encoder.fit_transform(train['Side'], train[\"Transported\"])\n",
    "train[\"Destination\"] = count_encoder.fit_transform(train['Destination'], train[\"Transported\"])\n",
    "\n",
    "train[\"Destination\"].value_counts().plot.barh()"
   ]
  },
  {
   "cell_type": "markdown",
   "id": "4bc72d663322c02e",
   "metadata": {},
   "source": [
    "Преобразуем признаки RoomService, FoodCourt, ShoppingMall, Spa, VRDeck c помощью pd.cut в категориальные (по процентилям)"
   ]
  },
  {
   "cell_type": "code",
   "execution_count": null,
   "id": "dba2509fafc70a95",
   "metadata": {},
   "outputs": [],
   "source": [
    "labels = [0, 1, 2]  # Названия категорий\n",
    "\n",
    "f = [\"RoomService\", \"FoodCourt\", \"ShoppingMall\", \"Spa\", \"VRDeck\"]\n",
    "hypotesis = train.copy()\n",
    "for e in f:\n",
    "    hypotesis[e] = pd.cut(train[e], bins=([train[e].quantile(i) for i in [0, 0.75, 0.90]] + [10 ** 10]), right=False, labels=labels, duplicates=\"drop\")\n",
    "train = hypotesis"
   ]
  },
  {
   "cell_type": "code",
   "execution_count": null,
   "id": "f0603ff13919fac1",
   "metadata": {},
   "outputs": [],
   "source": [
    "labels = [0, 1, 2]  # Названия категорий\n",
    "\n",
    "f = [\"Age\", \"Age\"]\n",
    "hypotesis = train.copy()\n",
    "for e in f:\n",
    "    hypotesis[e] = pd.cut(train[e], bins=range(0, 85, 10), right=False, labels=range(0, 73, 10), duplicates=\"drop\")\n",
    "train = hypotesis"
   ]
  },
  {
   "cell_type": "code",
   "execution_count": null,
   "id": "68026456-4ca0-4be2-8674-59793765707e",
   "metadata": {},
   "outputs": [],
   "source": [
    "train.to_csv('test.csv')"
   ]
  }
 ],
 "metadata": {
  "kernelspec": {
   "display_name": "Python 3 (ipykernel)",
   "language": "python",
   "name": "python3"
  },
  "language_info": {
   "codemirror_mode": {
    "name": "ipython",
    "version": 3
   },
   "file_extension": ".py",
   "mimetype": "text/x-python",
   "name": "python",
   "nbconvert_exporter": "python",
   "pygments_lexer": "ipython3",
   "version": "3.9.7"
  }
 },
 "nbformat": 4,
 "nbformat_minor": 5
}
