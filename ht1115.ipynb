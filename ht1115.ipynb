{
 "cells": [
  {
   "cell_type": "code",
   "id": "initial_id",
   "metadata": {
    "collapsed": true,
    "ExecuteTime": {
     "end_time": "2024-11-23T03:33:33.581505Z",
     "start_time": "2024-11-23T03:33:33.569508Z"
    }
   },
   "source": [
    "import os\n",
    "import torch\n",
    "import yaml\n",
    "from typing import Tuple, Any\n",
    "from torch import nn\n",
    "import torch.optim as optim\n",
    "\n",
    "import pickle\n",
    "\n",
    "import numpy as np\n",
    "import matplotlib.pyplot as plt\n",
    "\n",
    "import configparser\n",
    "from torch.utils.data import Dataset, DataLoader\n",
    "from torchvision import transforms\n",
    "from PIL import Image, ImageFile\n",
    "from sklearn.model_selection import train_test_split"
   ],
   "outputs": [],
   "execution_count": 57
  },
  {
   "metadata": {
    "ExecuteTime": {
     "end_time": "2024-11-23T03:33:33.612227Z",
     "start_time": "2024-11-23T03:33:33.602221Z"
    }
   },
   "cell_type": "code",
   "source": [
    "torch.cuda.is_available()\n",
    "ImageFile.LOAD_TRUNCATED_IMAGES = True"
   ],
   "id": "5f2f3e30df248799",
   "outputs": [],
   "execution_count": 58
  },
  {
   "cell_type": "code",
   "source": [
    "# setting device on GPU if available, else CPU\n",
    "\n",
    "device = torch.device('cuda' if torch.cuda.is_available() else 'cpu')\n",
    "print('Using device:', device)"
   ],
   "metadata": {
    "collapsed": false,
    "ExecuteTime": {
     "end_time": "2024-11-23T03:33:33.659226Z",
     "start_time": "2024-11-23T03:33:33.651228Z"
    }
   },
   "id": "2347c4495e55becf",
   "outputs": [
    {
     "name": "stdout",
     "output_type": "stream",
     "text": [
      "Using device: cuda\n"
     ]
    }
   ],
   "execution_count": 59
  },
  {
   "cell_type": "code",
   "source": [
    "def load_config(config_file='config.yaml'):\n",
    "    with open(config_file, 'r') as file:\n",
    "        config = yaml.safe_load(file)\n",
    "    return config\n",
    "\n",
    "config = load_config()"
   ],
   "metadata": {
    "collapsed": false,
    "ExecuteTime": {
     "end_time": "2024-11-23T03:33:33.674238Z",
     "start_time": "2024-11-23T03:33:33.668249Z"
    }
   },
   "id": "41d0cbf7c4237b19",
   "outputs": [],
   "execution_count": 60
  },
  {
   "cell_type": "code",
   "source": [
    "class MushroomDataset(Dataset):\n",
    "    def __init__(self, root_dir, transform=None):\n",
    "        \"\"\"\n",
    "        Dataset initialisation.\n",
    "        :param root_dir: Path to the directory with the images.\n",
    "        :param transform: Transforms applied to the data.\n",
    "        \"\"\"\n",
    "        self.root_dir = root_dir\n",
    "        self.transform = transform\n",
    "        self.image_paths = []\n",
    "        self.labels = []\n",
    "\n",
    "        for mushroom_name in os.listdir(root_dir):\n",
    "            mushroom_folder = os.path.join(root_dir, mushroom_name)\n",
    "            if os.path.isdir(mushroom_folder):\n",
    "                for image_name in os.listdir(mushroom_folder):\n",
    "                    if image_name.endswith(('.png', '.jpg', '.jpeg')):  \n",
    "                        self.image_paths.append(os.path.join(mushroom_folder, image_name))\n",
    "                        self.labels.append(mushroom_name)\n",
    "\n",
    "        self.class_to_idx = {label: idx for idx, label in enumerate(sorted(set(self.labels)))}\n",
    "        self.idx_to_class = {idx: label for label, idx in self.class_to_idx.items()}\n",
    "        self.labels = [self.class_to_idx[label] for label in self.labels]\n",
    "\n",
    "    def __len__(self):\n",
    "        return len(self.image_paths)\n",
    "\n",
    "    def __getitem__(self, idx):\n",
    "        img_path = self.image_paths[idx]\n",
    "        label = self.labels[idx]\n",
    "        image = Image.open(img_path).convert('RGB')\n",
    "\n",
    "        if self.transform:\n",
    "            image = self.transform(image)\n",
    "\n",
    "        return image, label"
   ],
   "metadata": {
    "collapsed": false,
    "ExecuteTime": {
     "end_time": "2024-11-23T03:33:33.690257Z",
     "start_time": "2024-11-23T03:33:33.676231Z"
    }
   },
   "id": "ce14575a365231b0",
   "outputs": [],
   "execution_count": 61
  },
  {
   "cell_type": "code",
   "source": [
    "transform = transforms.Compose([\n",
    "    transforms.Resize((224, 224)), \n",
    "    transforms.ToTensor(),  \n",
    "    transforms.Normalize(mean=[0.485, 0.456, 0.406], std=[0.229, 0.224, 0.225]),  \n",
    "])\n",
    "\n",
    "\n"
   ],
   "metadata": {
    "collapsed": false,
    "ExecuteTime": {
     "end_time": "2024-11-23T03:33:33.706113Z",
     "start_time": "2024-11-23T03:33:33.693049Z"
    }
   },
   "id": "7779f2499ef752c8",
   "outputs": [],
   "execution_count": 62
  },
  {
   "cell_type": "code",
   "source": [
    "# Создаем объект датасета\n",
    "dataset = MushroomDataset(root_dir=config['mushrooms']['dataset'], transform=transform)\n",
    "\n",
    "train_indices, test_indices = train_test_split(range(len(dataset)), test_size=0.2, random_state=42)\n",
    "\n",
    "train_dataset = torch.utils.data.Subset(dataset, train_indices)\n",
    "test_dataset = torch.utils.data.Subset(dataset, test_indices)\n",
    "\n",
    "train_loader = DataLoader(train_dataset, batch_size=64, shuffle=True)\n",
    "test_loader = DataLoader(test_dataset, batch_size=64, shuffle=False)\n"
   ],
   "metadata": {
    "collapsed": false,
    "ExecuteTime": {
     "end_time": "2024-11-23T03:33:33.753674Z",
     "start_time": "2024-11-23T03:33:33.723643Z"
    }
   },
   "id": "a802c7fd31db0658",
   "outputs": [],
   "execution_count": 63
  },
  {
   "metadata": {},
   "cell_type": "markdown",
   "source": "",
   "id": "e0c834587cd42d1c"
  },
  {
   "cell_type": "code",
   "source": [
    "from tqdm import tqdm"
   ],
   "metadata": {
    "collapsed": false,
    "ExecuteTime": {
     "end_time": "2024-11-23T03:33:33.768870Z",
     "start_time": "2024-11-23T03:33:33.755636Z"
    }
   },
   "id": "852acaee1c154b0",
   "outputs": [],
   "execution_count": 64
  },
  {
   "cell_type": "code",
   "source": [
    "# define a train function, model-agnostic, which will be used for further training\n",
    "def train(net, train_loader, device, num_epochs, learning_rate):\n",
    "    \n",
    "    optimizer = optim.SGD(net.parameters(), lr=learning_rate, momentum=0.9)\n",
    "    loss_function = torch.nn.CrossEntropyLoss()\n",
    "    acc_history = []\n",
    "\n",
    "    with tqdm(total=len(train_loader)*num_epochs, position=0, leave=True) as pbar:\n",
    "\n",
    "        for epoch in range(num_epochs):\n",
    "            running_loss = 0.0\n",
    "            correct = 0\n",
    "            total = 0 \n",
    "            \n",
    "            for batch_num, (inputs, labels) in enumerate(train_loader):\n",
    "                # Possibly copy inputs and labels to the GPU\n",
    "                # batch x [48, 48, 1] -> batch x [1, 48, 48]\n",
    "                inputs = inputs.permute(0, 1, 2, 3).to(device)\n",
    "                labels = labels.to(device)\n",
    "                \n",
    "                optimizer.zero_grad()\n",
    "\n",
    "                # Forward pass\n",
    "                outputs = net(inputs)\n",
    "                loss = loss_function(outputs, labels)\n",
    "\n",
    "                # Backpropagation                \n",
    "                loss.backward()\n",
    "\n",
    "                # Update\n",
    "                optimizer.step()\n",
    "\n",
    "                # Print progress\n",
    "                running_loss += loss.item()\n",
    "\n",
    "                # Calculate batch Accuracy\n",
    "                _, predicted = outputs.max(1)\n",
    "                batch_total = labels.size(0)\n",
    "                batch_correct = predicted.eq(labels).sum().item()\n",
    "                batch_acc = batch_correct/batch_total\n",
    "                \n",
    "                pbar.set_description(\"Epoch: %d, Batch: %2d, Loss: %.2f, Acc: %.2f\" % (epoch, batch_num, running_loss, batch_acc))\n",
    "                pbar.update()\n",
    "\n",
    "                total += batch_total\n",
    "                correct += batch_correct\n",
    "\n",
    "            # Print the evaluation metric and reset it for the next epoch\n",
    "            acc = correct/total \n",
    "            acc_history.append(acc)\n",
    "\n",
    "        pbar.close()\n",
    "\n",
    "    return acc_history\n"
   ],
   "metadata": {
    "collapsed": false,
    "ExecuteTime": {
     "end_time": "2024-11-23T03:33:33.783863Z",
     "start_time": "2024-11-23T03:33:33.769872Z"
    }
   },
   "id": "2086a95649142c6e",
   "outputs": [],
   "execution_count": 65
  },
  {
   "cell_type": "code",
   "source": [
    "def print_history(history, title):\n",
    "    plt.figure(figsize=(7, 4))\n",
    "    plt.plot(history)\n",
    "    plt.title(title)\n",
    "    plt.ylabel('Accuracy')\n",
    "    plt.xlabel('Epoch')"
   ],
   "metadata": {
    "collapsed": false,
    "ExecuteTime": {
     "end_time": "2024-11-23T03:33:33.798702Z",
     "start_time": "2024-11-23T03:33:33.785872Z"
    }
   },
   "id": "ea5a99ca790d46bf",
   "outputs": [],
   "execution_count": 66
  },
  {
   "cell_type": "code",
   "source": [],
   "metadata": {
    "collapsed": false,
    "ExecuteTime": {
     "end_time": "2024-11-23T03:33:33.813733Z",
     "start_time": "2024-11-23T03:33:33.800698Z"
    }
   },
   "id": "428cb770d49f868d",
   "outputs": [],
   "execution_count": 66
  },
  {
   "cell_type": "code",
   "source": [
    "EPOCHS = 100\n",
    "LR = 0.001\n",
    "\n",
    "# hist = train(net, train_dataloader, device, EPOCHS, LR)"
   ],
   "metadata": {
    "collapsed": false,
    "ExecuteTime": {
     "end_time": "2024-11-23T03:33:33.829733Z",
     "start_time": "2024-11-23T03:33:33.815698Z"
    }
   },
   "id": "c25e38c6ed7aba34",
   "outputs": [],
   "execution_count": 67
  },
  {
   "cell_type": "code",
   "source": [
    "import torch\n",
    "\n",
    "def build_MOCNN_S():\n",
    "    def init_weights(m):\n",
    "        if isinstance(m, torch.nn.Linear):\n",
    "            torch.nn.init.xavier_uniform_(m.weight)\n",
    "            if m.bias is not None:\n",
    "                m.bias.data.fill_(0.01)\n",
    "        elif isinstance(m, torch.nn.Conv2d):\n",
    "            torch.nn.init.xavier_uniform_(m.weight)\n",
    "            if m.bias is not None:\n",
    "                m.bias.data.fill_(0.01)\n",
    "    \n",
    "    # Строим модель\n",
    "    mocnn = torch.nn.Sequential(\n",
    "        torch.nn.Conv2d(3, 32, kernel_size=5, padding=2),  # Вход: 3 канала (RGB)\n",
    "        torch.nn.ReLU(),\n",
    "        \n",
    "        torch.nn.AvgPool2d(kernel_size=6, stride=6),\n",
    "        \n",
    "        torch.nn.Conv2d(32, 40, kernel_size=5, padding=2),  # Вход: 3 канала (RGB)\n",
    "        torch.nn.ReLU(),\n",
    "        \n",
    "        torch.nn.AvgPool2d(kernel_size=4, stride=4),# После AvgPool размер будет 32x16x16\n",
    "        \n",
    "        torch.nn.Flatten(),\n",
    "        \n",
    "        # Размерность после свертки и пулинга будет 32 * 16 * 16 = 8192\n",
    "        torch.nn.Linear(3240, 120),\n",
    "        torch.nn.Sigmoid(),\n",
    "        \n",
    "        torch.nn.Linear(120, 84),\n",
    "        torch.nn.Sigmoid(),\n",
    "        \n",
    "        torch.nn.Linear(84, 10)  # Количество выходных нейронов зависит от количества классов\n",
    "    )\n",
    "  \n",
    "    # Применяем инициализацию\n",
    "    mocnn.apply(init_weights)\n",
    "    \n",
    "    return mocnn\n"
   ],
   "metadata": {
    "collapsed": false,
    "ExecuteTime": {
     "end_time": "2024-11-23T03:33:33.845817Z",
     "start_time": "2024-11-23T03:33:33.832698Z"
    }
   },
   "id": "5c80dc5c40d3efbd",
   "outputs": [],
   "execution_count": 68
  },
  {
   "cell_type": "code",
   "source": [
    "mocnn = build_MOCNN_S()\n",
    "mocnn.to(device)\n",
    "print(device)"
   ],
   "metadata": {
    "collapsed": false,
    "ExecuteTime": {
     "end_time": "2024-11-23T03:33:33.892749Z",
     "start_time": "2024-11-23T03:33:33.863212Z"
    }
   },
   "id": "b23c2a4b8bf2e932",
   "outputs": [
    {
     "name": "stdout",
     "output_type": "stream",
     "text": [
      "cuda\n"
     ]
    }
   ],
   "execution_count": 69
  },
  {
   "metadata": {
    "ExecuteTime": {
     "end_time": "2024-11-23T03:33:33.938742Z",
     "start_time": "2024-11-23T03:33:33.907742Z"
    }
   },
   "cell_type": "code",
   "source": [
    "with torch.autograd.profiler.profile(use_cuda=True) as prof:\n",
    "    output = build_MOCNN_S()\n",
    "print(prof.key_averages().table(sort_by=\"cuda_time_total\"))"
   ],
   "id": "3fb62d350af665d6",
   "outputs": [
    {
     "name": "stdout",
     "output_type": "stream",
     "text": [
      "------------------  ------------  ------------  ------------  ------------  ------------  ------------  ------------  ------------  ------------  ------------  \n",
      "              Name    Self CPU %      Self CPU   CPU total %     CPU total  CPU time avg     Self CUDA   Self CUDA %    CUDA total  CUDA time avg    # of Calls  \n",
      "------------------  ------------  ------------  ------------  ------------  ------------  ------------  ------------  ------------  ------------  ------------  \n",
      "      aten::detach         0.84%      49.700us         1.39%      81.800us       8.180us      41.000us        33.06%      61.000us       6.100us            10  \n",
      "    aten::uniform_        97.26%       5.741ms        97.26%       5.741ms     382.707us      30.000us        24.19%      30.000us       2.000us            15  \n",
      "       aten::empty         0.77%      45.400us         0.77%      45.400us       4.540us      22.000us        17.74%      22.000us       2.200us            10  \n",
      "            detach         0.54%      32.100us         0.54%      32.100us       3.210us      20.000us        16.13%      20.000us       2.000us            10  \n",
      "       aten::fill_         0.58%      34.300us         0.58%      34.300us       6.860us      11.000us         8.87%      11.000us       2.200us             5  \n",
      "------------------  ------------  ------------  ------------  ------------  ------------  ------------  ------------  ------------  ------------  ------------  \n",
      "Self CPU time total: 5.902ms\n",
      "Self CUDA time total: 124.000us\n",
      "\n"
     ]
    },
    {
     "name": "stderr",
     "output_type": "stream",
     "text": [
      "C:\\Users\\ПК\\AppData\\Local\\Temp\\ipykernel_98512\\1339680574.py:1: FutureWarning: The attribute `use_cuda` will be deprecated soon, please use ``use_device = 'cuda'`` instead.\n",
      "  with torch.autograd.profiler.profile(use_cuda=True) as prof:\n"
     ]
    }
   ],
   "execution_count": 70
  },
  {
   "cell_type": "code",
   "source": [
    "mocnn_hist = train(mocnn, train_loader, device, EPOCHS, 64)\n",
    "print_history(mocnn_hist, \"NN Model Accuracy\")"
   ],
   "metadata": {
    "collapsed": false,
    "is_executing": true,
    "ExecuteTime": {
     "end_time": "2024-11-23T04:43:22.754191Z",
     "start_time": "2024-11-23T03:33:33.940742Z"
    }
   },
   "id": "7f59c4bb64a4d114",
   "outputs": [
    {
     "name": "stderr",
     "output_type": "stream",
     "text": [
      "Epoch: 99, Batch: 83, Loss: 183267.33, Acc: 0.20: 100%|██████████| 8400/8400 [1:09:48<00:00,  2.01it/s]\n"
     ]
    },
    {
     "data": {
      "text/plain": [
       "<Figure size 700x400 with 1 Axes>"
      ],
      "image/png": "[encoded data removed]"
     },
     "metadata": {},
     "output_type": "display_data"
    }
   ],
   "execution_count": 71
  }
 ],
 "metadata": {
  "kernelspec": {
   "display_name": "Python 3",
   "language": "python",
   "name": "python3"
  },
  "language_info": {
   "codemirror_mode": {
    "name": "ipython",
    "version": 2
   },
   "file_extension": ".py",
   "mimetype": "text/x-python",
   "name": "python",
   "nbconvert_exporter": "python",
   "pygments_lexer": "ipython2",
   "version": "2.7.6"
  }
 },
 "nbformat": 4,
 "nbformat_minor": 5
}
